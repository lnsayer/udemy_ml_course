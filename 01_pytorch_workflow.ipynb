{
  "nbformat": 4,
  "nbformat_minor": 0,
  "metadata": {
    "colab": {
      "provenance": [],
      "gpuType": "T4",
      "authorship_tag": "ABX9TyOP5kMkmpzq661R6oz/8y/0",
      "include_colab_link": true
    },
    "kernelspec": {
      "name": "python3",
      "display_name": "Python 3"
    },
    "language_info": {
      "name": "python"
    },
    "accelerator": "GPU"
  },
  "cells": [
    {
      "cell_type": "markdown",
      "metadata": {
        "id": "view-in-github",
        "colab_type": "text"
      },
      "source": [
        "<a href=\"https://colab.research.google.com/github/lnsayer/udemy_ml_course/blob/main/01_pytorch_workflow.ipynb\" target=\"_parent\"><img src=\"https://colab.research.google.com/assets/colab-badge.svg\" alt=\"Open In Colab\"/></a>"
      ]
    },
    {
      "cell_type": "markdown",
      "source": [
        "## PyTorch Workflow\n",
        "\n",
        "Let's explore an example Pytorch end-to-end workflow.\n",
        "\n",
        "Resources:\n",
        "* Ground truth notebook - https://github.com/mrdbourke/pytorch-deep-learning/blob/main/docs/01_pytorch_workflow.ipynb\n",
        "* Book version of notebook https://www.learnpytorch.io/01_pytorch_workflow/\n",
        "* Ask a question https://github.com/mrdbourke/pytorch-deep-learning/discussions"
      ],
      "metadata": {
        "id": "MC7p2T1GigCA"
      }
    },
    {
      "cell_type": "code",
      "source": [
        "what_were_covering = {1: \"data (prepare and load)\",\n",
        "                              2: \"build model\",\n",
        "                              3: \"fitting the model to data (training)\",\n",
        "                              4: \"making predictions and evaluting a model (inference)\",\n",
        "                              5: \"saving and loading a model\",\n",
        "                              6: \"putting it all together\"}\n",
        "what_were_covering"
      ],
      "metadata": {
        "colab": {
          "base_uri": "https://localhost:8080/"
        },
        "id": "5CAWdNff0Abm",
        "outputId": "1cb31530-06c6-4503-f5c3-f94a0b96d7cb"
      },
      "execution_count": 1,
      "outputs": [
        {
          "output_type": "execute_result",
          "data": {
            "text/plain": [
              "{1: 'data (prepare and load)',\n",
              " 2: 'build model',\n",
              " 3: 'fitting the model to data (training)',\n",
              " 4: 'making predictions and evaluting a model (inference)',\n",
              " 5: 'saving and loading a model',\n",
              " 6: 'putting it all together'}"
            ]
          },
          "metadata": {},
          "execution_count": 1
        }
      ]
    },
    {
      "cell_type": "code",
      "source": [
        "import torch\n",
        "from torch import nn # nn contains all of Pytorch's building blocks for neural networks\n",
        "import matplotlib.pyplot as plt\n",
        "import numpy as np\n",
        "\n",
        "# Check PyTorch version\n",
        "torch.__version__"
      ],
      "metadata": {
        "colab": {
          "base_uri": "https://localhost:8080/",
          "height": 35
        },
        "id": "uDtJckJo0iy6",
        "outputId": "da8ad996-8e44-4a98-8ade-f487c4c35bf6"
      },
      "execution_count": 2,
      "outputs": [
        {
          "output_type": "execute_result",
          "data": {
            "text/plain": [
              "'2.2.1+cu121'"
            ],
            "application/vnd.google.colaboratory.intrinsic+json": {
              "type": "string"
            }
          },
          "metadata": {},
          "execution_count": 2
        }
      ]
    },
    {
      "cell_type": "markdown",
      "source": [
        "## 1. Data (preparing and loading)\n",
        "\n",
        "Data can be almost anything... in machine learning.\n",
        "\n",
        "* Excel speadsheet\n",
        "* Images of any kind\n",
        "* Videos (YouTube has lots of data...)\n",
        "* Audio like songs or podcasts\n",
        "* DNA\n",
        "* Text"
      ],
      "metadata": {
        "id": "4EgGvwJV1F4L"
      }
    },
    {
      "cell_type": "markdown",
      "source": [
        "Machine learning is a game of two parts:\n",
        "1. Get data into numerical representation.\n",
        "2. Build a model to learn patterns in that numerical representation.\n",
        "\n",
        "To showcase this, let's create some *known* data using the linear regression formula\n",
        "\n",
        "We'll use a linear regression formula to make a straight line with known **parameters**"
      ],
      "metadata": {
        "id": "iIxINkrK1fVS"
      }
    },
    {
      "cell_type": "code",
      "source": [
        "# Create *known* parameters\n",
        "weight = 0.7\n",
        "bias = 0.3\n",
        "\n",
        "# Create\n",
        "start = 0\n",
        "end = 1\n",
        "step = 0.02\n",
        "X = torch.arange(start, end, step).unsqueeze(dim=1)\n",
        "y = weight * X + bias\n",
        "\n",
        "X[:10], y[:10]"
      ],
      "metadata": {
        "colab": {
          "base_uri": "https://localhost:8080/"
        },
        "id": "tTVRQWXa13X2",
        "outputId": "35b0a480-b4ef-47b7-98dd-e67397285501"
      },
      "execution_count": 3,
      "outputs": [
        {
          "output_type": "execute_result",
          "data": {
            "text/plain": [
              "(tensor([[0.0000],\n",
              "         [0.0200],\n",
              "         [0.0400],\n",
              "         [0.0600],\n",
              "         [0.0800],\n",
              "         [0.1000],\n",
              "         [0.1200],\n",
              "         [0.1400],\n",
              "         [0.1600],\n",
              "         [0.1800]]),\n",
              " tensor([[0.3000],\n",
              "         [0.3140],\n",
              "         [0.3280],\n",
              "         [0.3420],\n",
              "         [0.3560],\n",
              "         [0.3700],\n",
              "         [0.3840],\n",
              "         [0.3980],\n",
              "         [0.4120],\n",
              "         [0.4260]]))"
            ]
          },
          "metadata": {},
          "execution_count": 3
        }
      ]
    },
    {
      "cell_type": "code",
      "source": [
        "len(X), len(y)"
      ],
      "metadata": {
        "colab": {
          "base_uri": "https://localhost:8080/"
        },
        "id": "-DVQKD-D20Cf",
        "outputId": "eebbf5f1-6a1c-44e4-b9f4-7a02dc0be0f1"
      },
      "execution_count": 4,
      "outputs": [
        {
          "output_type": "execute_result",
          "data": {
            "text/plain": [
              "(50, 50)"
            ]
          },
          "metadata": {},
          "execution_count": 4
        }
      ]
    },
    {
      "cell_type": "markdown",
      "source": [
        "### Splitting data into training and test sets (one of the most important concepts in general)\n",
        "\n",
        "Let's create a training and test set with our data"
      ],
      "metadata": {
        "id": "roJcSch625B9"
      }
    },
    {
      "cell_type": "code",
      "source": [
        "# Create a train/test split\n",
        "train_split = int(0.8 *len(X))\n",
        "X_train, y_train = X[:train_split], y[:train_split]\n",
        "X_test, y_test = X[train_split:], y[train_split:]\n",
        "\n",
        "len(X_train), len(y_train), len(X_test), len(y_test)"
      ],
      "metadata": {
        "colab": {
          "base_uri": "https://localhost:8080/"
        },
        "id": "2bF9pwLF3j_J",
        "outputId": "4a5965c3-08f8-4046-feb6-c009344b28bb"
      },
      "execution_count": 5,
      "outputs": [
        {
          "output_type": "execute_result",
          "data": {
            "text/plain": [
              "(40, 40, 10, 10)"
            ]
          },
          "metadata": {},
          "execution_count": 5
        }
      ]
    },
    {
      "cell_type": "markdown",
      "source": [
        "How might we better visualise our data?\n",
        "\n",
        "This is where the data explorer's motto comes in!\n",
        "\n",
        "\"Visualise, visualise, visualise!\""
      ],
      "metadata": {
        "id": "G_jGSoKt4o13"
      }
    },
    {
      "cell_type": "code",
      "source": [
        "def plot_predictions(train_data=X_train,\n",
        "                     train_labels = y_train,\n",
        "                     test_data=X_test,\n",
        "                     test_labels = y_test,\n",
        "                     predictions=None):\n",
        "  \"\"\"\n",
        "  Plots training data, test data and compares predictions.\n",
        "  \"\"\"\n",
        "  plt.figure(figsize=(10,7))\n",
        "\n",
        "\n",
        "  #Plot training data in blue\n",
        "  plt.scatter(train_data, train_labels, c=\"b\", s=6, label=\"Training data\")\n",
        "\n",
        "\n",
        "  # Plot test data in green\n",
        "  plt.scatter(test_data, test_labels, c=\"g\", s=6, label=\"Testing data\")\n",
        "\n",
        "  # Are there predictions?\n",
        "  if predictions is not None:\n",
        "    # Plot the predictions if they exist\n",
        "    plt.scatter(test_data, predictions, c=\"r\", s=6, label=\"Predictions\")\n",
        "\n",
        "  # Show the legend\n",
        "  plt.legend(prop={\"size\":14})"
      ],
      "metadata": {
        "id": "JDQTkDA65lAG"
      },
      "execution_count": 55,
      "outputs": []
    },
    {
      "cell_type": "code",
      "source": [
        "plot_predictions();"
      ],
      "metadata": {
        "colab": {
          "base_uri": "https://localhost:8080/",
          "height": 460
        },
        "id": "8YfSzU6x6C18",
        "outputId": "2ea16298-aee5-42d3-e12d-77f1f4c9f06a"
      },
      "execution_count": 56,
      "outputs": [
        {
          "output_type": "display_data",
          "data": {
            "text/plain": [
              "<Figure size 1000x700 with 1 Axes>"
            ],
            "image/png": "[encoded data removed]"
          },
          "metadata": {}
        }
      ]
    },
    {
      "cell_type": "markdown",
      "source": [
        "## 2. Building model\n",
        "\n",
        "Our first Pytorch model\n",
        "\n",
        "This is very exciting... let's do it.\n",
        "\n",
        "Because we're going to be building classes throughout the course, I'd recommend: https://realpython.com/python-classes/\n",
        "\n",
        "What our model does:\n",
        "* Start with random values (weight and bias)\n",
        "* Look at training data and adjust the random values to better represent (or get closer to) the ideal values (the weight and bias values we used to create the data)\n",
        "\n",
        "How does it do so?\n",
        "\n",
        "Through two main algorithms:\n",
        "1. Gradient Descent\n",
        "2. Backpropagation"
      ],
      "metadata": {
        "id": "rHPs5A7g7A42"
      }
    },
    {
      "cell_type": "code",
      "source": [
        "from torch import nn\n",
        "\n",
        "# Create a linear regression model class\n",
        "class LinearRegressionModel(nn.Module): # <- almost everything in Pytorch inherits from nn.module\n",
        "    def __init__(self):\n",
        "      super().__init__()\n",
        "      # Initialise the model parameters\n",
        "      self.weights = nn.Parameter(torch.randn(1, # <- start with a random weight and try to adjust it to the ideal weight\n",
        "                                              requires_grad=True, # <- can this parameter be updated by gradient descent?\n",
        "                                              dtype = torch.float)) # Pytorch loves the datatype torch.float32\n",
        "\n",
        "      self.bias = nn.Parameter(torch.randn(1, # <- start with a random bias and adjust it to the ideal bias\n",
        "                                           requires_grad=True, # can this parameter be updated via gradient descent?\n",
        "                                           dtype= torch.float)) # Pytorch loves the datatype torch.float32\n",
        "\n",
        "    # Forward method to define the computation in the model\n",
        "    def forward(self, x: torch.Tensor) -> torch.Tensor: # <- \"x\" is the input data\n",
        "      return self.weights * x+ self.bias # This is the linear regression formula\n",
        "\n",
        "\n"
      ],
      "metadata": {
        "id": "6msuU-M58HJN"
      },
      "execution_count": 57,
      "outputs": []
    },
    {
      "cell_type": "markdown",
      "source": [
        "### PyTorch model building essentials\n",
        "\n",
        "* torch.nn - contains all of the building blocks for computational graphs( a neural network can be considered a computational graph)\n",
        "* torch.nn.Parameter - what parameters should our model try and learn, often a Pytorch layer from torch.nn will set these for us\n",
        "* torch.nn.Module - The base class for all neural network modules, if you subclass it, you should overwrite forward()\n",
        "* torch.optim - this is where the optimisers in Pytorch live, they will help with gradient descent\n",
        "* def forward() - All nn.module subclasses require you to overwrite forward(), this method defines what happens in the forward computation\n",
        "\n",
        "See more here:  https://pytorch.org/tutorials/beginner/ptcheat.html"
      ],
      "metadata": {
        "id": "wsqaM_InJnGJ"
      }
    },
    {
      "cell_type": "markdown",
      "source": [
        "### Checking the contents of our Pytorch model\n",
        "\n",
        "Now we've created a model, let's see what's inside...\n",
        "\n",
        "So we can check out our model parameters or what's inside our model using `.parameters()`"
      ],
      "metadata": {
        "id": "Vr2pODmGLdnQ"
      }
    },
    {
      "cell_type": "code",
      "source": [
        "# Create a random seed\n",
        "torch.manual_seed(42)\n",
        "\n",
        "# Create an instance of the model (this is a subclass of nn.Module)\n",
        "model_0 = LinearRegressionModel()\n",
        "\n",
        "# Check out the parameters\n",
        "list(model_0.parameters())"
      ],
      "metadata": {
        "colab": {
          "base_uri": "https://localhost:8080/"
        },
        "id": "BZItVvBgQFGg",
        "outputId": "17b16f0e-b958-4961-9d30-b78d42663634"
      },
      "execution_count": 58,
      "outputs": [
        {
          "output_type": "execute_result",
          "data": {
            "text/plain": [
              "[Parameter containing:\n",
              " tensor([0.3367], requires_grad=True),\n",
              " Parameter containing:\n",
              " tensor([0.1288], requires_grad=True)]"
            ]
          },
          "metadata": {},
          "execution_count": 58
        }
      ]
    },
    {
      "cell_type": "code",
      "source": [
        " # List parameters names\n",
        " model_0.state_dict()"
      ],
      "metadata": {
        "colab": {
          "base_uri": "https://localhost:8080/"
        },
        "id": "PI6tGBgMQc_e",
        "outputId": "dfe36b14-4b59-4000-a01d-c9c407de2f8a"
      },
      "execution_count": 59,
      "outputs": [
        {
          "output_type": "execute_result",
          "data": {
            "text/plain": [
              "OrderedDict([('weights', tensor([0.3367])), ('bias', tensor([0.1288]))])"
            ]
          },
          "metadata": {},
          "execution_count": 59
        }
      ]
    },
    {
      "cell_type": "markdown",
      "source": [
        "### Making predictions using `torch.inference_mode()`\n",
        "\n",
        "To check our model's predictive power, let's see how well it predicts `y_test` based on `X_test`\n",
        "\n",
        "When we pass data through our model, it's going to run it through the forward method."
      ],
      "metadata": {
        "id": "8vGfoVm6TWJf"
      }
    },
    {
      "cell_type": "code",
      "source": [
        "y_preds = model_0(X_test)\n",
        "y_preds"
      ],
      "metadata": {
        "colab": {
          "base_uri": "https://localhost:8080/"
        },
        "id": "DDfnh1QPZiB3",
        "outputId": "cf4a7fe6-1668-45bc-942e-fc29a7f809ec"
      },
      "execution_count": 60,
      "outputs": [
        {
          "output_type": "execute_result",
          "data": {
            "text/plain": [
              "tensor([[0.3982],\n",
              "        [0.4049],\n",
              "        [0.4116],\n",
              "        [0.4184],\n",
              "        [0.4251],\n",
              "        [0.4318],\n",
              "        [0.4386],\n",
              "        [0.4453],\n",
              "        [0.4520],\n",
              "        [0.4588]], grad_fn=<AddBackward0>)"
            ]
          },
          "metadata": {},
          "execution_count": 60
        }
      ]
    },
    {
      "cell_type": "code",
      "source": [
        "# Make predictions with model\n",
        "with torch.inference_mode():\n",
        "  y_preds = model_0(X_test)\n",
        "\n",
        "# You can also do something similar with torch.no_grad(), however, inference mode is preferred\n",
        "# with torch.no_grad():\n",
        "#   y_preds = model_0(X_test)\n",
        "y_preds"
      ],
      "metadata": {
        "colab": {
          "base_uri": "https://localhost:8080/"
        },
        "id": "tdrzGhAxTlD2",
        "outputId": "394963aa-c2a2-4e5e-ea55-60a81e853809"
      },
      "execution_count": 61,
      "outputs": [
        {
          "output_type": "execute_result",
          "data": {
            "text/plain": [
              "tensor([[0.3982],\n",
              "        [0.4049],\n",
              "        [0.4116],\n",
              "        [0.4184],\n",
              "        [0.4251],\n",
              "        [0.4318],\n",
              "        [0.4386],\n",
              "        [0.4453],\n",
              "        [0.4520],\n",
              "        [0.4588]])"
            ]
          },
          "metadata": {},
          "execution_count": 61
        }
      ]
    },
    {
      "cell_type": "code",
      "source": [
        "y_test"
      ],
      "metadata": {
        "colab": {
          "base_uri": "https://localhost:8080/"
        },
        "id": "SlUc9djjUl1c",
        "outputId": "7af71a94-3503-4c99-b917-d6146dbec738"
      },
      "execution_count": 62,
      "outputs": [
        {
          "output_type": "execute_result",
          "data": {
            "text/plain": [
              "tensor([[0.7763],\n",
              "        [0.7818],\n",
              "        [0.8817],\n",
              "        [0.9696],\n",
              "        [0.9062],\n",
              "        [1.1145],\n",
              "        [0.8255],\n",
              "        [1.0964],\n",
              "        [0.8518],\n",
              "        [1.0568]])"
            ]
          },
          "metadata": {},
          "execution_count": 62
        }
      ]
    },
    {
      "cell_type": "code",
      "source": [
        "plot_predictions(predictions=y_preds)"
      ],
      "metadata": {
        "colab": {
          "base_uri": "https://localhost:8080/",
          "height": 460
        },
        "id": "2umv8UMeYexo",
        "outputId": "b4457612-021a-43de-d53e-e9f481e940ad"
      },
      "execution_count": 63,
      "outputs": [
        {
          "output_type": "display_data",
          "data": {
            "text/plain": [
              "<Figure size 1000x700 with 1 Axes>"
            ],
            "image/png": "[encoded data removed]"
          },
          "metadata": {}
        }
      ]
    },
    {
      "cell_type": "markdown",
      "source": [
        "## 3. Train model\n",
        "\n",
        "The whole idea of training is for a model to move from some unknown parameters (these may be random) to some known parameters\n",
        "\n",
        "Or in other words, from a poor representation to a better representation of the data.\n",
        "\n",
        "One way to measure how our poor your models predictions' are, use a loss function.\n",
        "\n",
        "* Note: Loss function may also be called cost function or criterion in different areas. For our case, we're going to refer to it as a loss function.\n",
        "\n",
        "Things we need to train:\n",
        "\n",
        "* **Loss Function:** A function to measure how wrong your model's predictions are to the outputs, lower is better.\n",
        "* **Optimiser:** Takes into account the loss of a model and adjusts the model's parameters (e.g weight and bias) to improve the loss function.\n",
        "\n",
        "And specifically for Pytorch, we need:\n",
        "* A training loop\n",
        "* A testing loop"
      ],
      "metadata": {
        "id": "-AS9Hveka7fm"
      }
    },
    {
      "cell_type": "code",
      "source": [
        "list(model_0.parameters())"
      ],
      "metadata": {
        "colab": {
          "base_uri": "https://localhost:8080/"
        },
        "id": "9xIc7av6bhQQ",
        "outputId": "dbe874be-4c7d-4a88-bc98-925991b2be1c"
      },
      "execution_count": 64,
      "outputs": [
        {
          "output_type": "execute_result",
          "data": {
            "text/plain": [
              "[Parameter containing:\n",
              " tensor([0.3367], requires_grad=True),\n",
              " Parameter containing:\n",
              " tensor([0.1288], requires_grad=True)]"
            ]
          },
          "metadata": {},
          "execution_count": 64
        }
      ]
    },
    {
      "cell_type": "code",
      "source": [
        "# Check out our model's parameters (a parameter is a value that the model set itself)\n",
        "model_0.state_dict()"
      ],
      "metadata": {
        "colab": {
          "base_uri": "https://localhost:8080/"
        },
        "id": "Kb9yrbLmcf8n",
        "outputId": "1fc2fa2b-1af0-4389-8a3c-2867cd713b4b"
      },
      "execution_count": 65,
      "outputs": [
        {
          "output_type": "execute_result",
          "data": {
            "text/plain": [
              "OrderedDict([('weights', tensor([0.3367])), ('bias', tensor([0.1288]))])"
            ]
          },
          "metadata": {},
          "execution_count": 65
        }
      ]
    },
    {
      "cell_type": "code",
      "source": [
        "# Setup a loss function\n",
        "loss_fn = nn.L1Loss()\n",
        "\n",
        "# Set up an optimiser (stochastic gradient descent)\n",
        "optimizer = torch.optim.SGD(params = model_0.parameters(),\n",
        "                            lr=0.01) # lr= learning rate, possibly the most important hyperparameter you can set\n"
      ],
      "metadata": {
        "id": "Q_kdBDIncsQ2"
      },
      "execution_count": 66,
      "outputs": []
    },
    {
      "cell_type": "markdown",
      "source": [
        "### Building a training loop (and a testing loop) in PyTorch\n",
        "\n",
        " A couple of things we need in a training loop:\n",
        " 0. Loop through the data\n",
        " 1. Forward pass (this involves data moving through our model's `forward()` functions) to make predictions on data - also called forward propagation\n",
        " 2. Calculate the loss (compare forward pass predictions to ground truth labels)\n",
        " 3. Optimiser zero grad\n",
        " 4. Loss backward - move backwards through the network to calculate the gradients of each of the parameters of our model with repsect to the loss (**backpropagation**)\n",
        " 5. Optimiser step - use the optimiser to adjust our model's parameters to try and improve the loss (**gradient descent**)"
      ],
      "metadata": {
        "id": "2txE5pcDemiu"
      }
    },
    {
      "cell_type": "code",
      "source": [
        "list(model_0.parameters())"
      ],
      "metadata": {
        "colab": {
          "base_uri": "https://localhost:8080/"
        },
        "id": "XRL2LnyBopvI",
        "outputId": "fc656c6e-281a-490d-9c47-fd07b3c6eb4d"
      },
      "execution_count": 67,
      "outputs": [
        {
          "output_type": "execute_result",
          "data": {
            "text/plain": [
              "[Parameter containing:\n",
              " tensor([0.3367], requires_grad=True),\n",
              " Parameter containing:\n",
              " tensor([0.1288], requires_grad=True)]"
            ]
          },
          "metadata": {},
          "execution_count": 67
        }
      ]
    },
    {
      "cell_type": "code",
      "source": [
        "# An epoch is one loop through the data...(this is a hyperparameter because we've set it ourselves)\n",
        "epochs = 200\n",
        "\n",
        "epoch_count = []\n",
        "train_loss_values = []\n",
        "test_loss_values = []\n",
        "\n",
        "#Training\n",
        "# 0. Loop through the data and do...\n",
        "for epoch in range(epochs):\n",
        "  # Set the model to training mode\n",
        "  model_0.train() # train mode in PyTorch sets all parameters that require gradients\n",
        "\n",
        "  #1. Forward pass on train data using the forward() method inside\n",
        "  y_pred = model_0(X_train)\n",
        "\n",
        "  #2. Calculate the loss (depends on the loss function in use)\n",
        "  loss = loss_fn(y_pred, y_train)\n",
        "  # print(f\"loss: {loss}\")\n",
        "\n",
        "  #3. Zero the gradients of the optimizer (they accumulate by default)\n",
        "  optimizer.zero_grad()\n",
        "\n",
        "  #4. Perform backpropagation on the loss w.r.t the parameters of the model\n",
        "  loss.backward()\n",
        "\n",
        "  #5. Step the optimizer (perform gradient descent)\n",
        "  optimizer.step() # by defualt how the optimizer changes will accumulate through the loop so... we have to zero them above in step 3 for the next iteration of the loop\n",
        "\n",
        "\n",
        "  ### Testing\n",
        "  model_0.eval() # turns off different settings in the model not needed for evaluation/testing\n",
        "  with torch.inference_mode(): # turns off gradient tracking and a couple more things behind the scene\n",
        "    # 1. Do the forward pass\n",
        "    test_pred = model_0(X_test)\n",
        "\n",
        "\n",
        "    # 2. Calculate the loss\n",
        "    test_loss = loss_fn(test_pred, y_test)\n",
        "\n",
        "  # Print out what's happening\n",
        "  if epoch %10 == 0:\n",
        "    epoch_count.append(epoch)\n",
        "    train_loss_values.append(loss)\n",
        "    test_loss_values.append(test_loss)\n",
        "    print(f\"Epoch: {epoch} | Loss: {loss} | Test loss: {test_loss}\")\n",
        "    # Print out model_0 state_dict\n",
        "    print(model_0.state_dict())"
      ],
      "metadata": {
        "id": "TyQ5Z1VwlGTO",
        "colab": {
          "base_uri": "https://localhost:8080/"
        },
        "outputId": "a1eb2aca-abf4-4e54-d9a5-aea3c6c3bca2"
      },
      "execution_count": 68,
      "outputs": [
        {
          "output_type": "stream",
          "name": "stdout",
          "text": [
            "Epoch: 0 | Loss: 0.32495778799057007 | Test loss: 0.4846297800540924\n",
            "OrderedDict([('weights', tensor([0.3406])), ('bias', tensor([0.1383]))])\n",
            "Epoch: 10 | Loss: 0.22421006858348846 | Test loss: 0.3585249185562134\n",
            "OrderedDict([('weights', tensor([0.3789])), ('bias', tensor([0.2303]))])\n",
            "Epoch: 20 | Loss: 0.14905180037021637 | Test loss: 0.2490205466747284\n",
            "OrderedDict([('weights', tensor([0.4148])), ('bias', tensor([0.3078]))])\n",
            "Epoch: 30 | Loss: 0.11402630805969238 | Test loss: 0.1762428730726242\n",
            "OrderedDict([('weights', tensor([0.4427])), ('bias', tensor([0.3558]))])\n",
            "Epoch: 40 | Loss: 0.09983185678720474 | Test loss: 0.12776638567447662\n",
            "OrderedDict([('weights', tensor([0.4634])), ('bias', tensor([0.3858]))])\n",
            "Epoch: 50 | Loss: 0.09410911798477173 | Test loss: 0.107696533203125\n",
            "OrderedDict([('weights', tensor([0.4785])), ('bias', tensor([0.4018]))])\n",
            "Epoch: 60 | Loss: 0.09359283745288849 | Test loss: 0.10636653751134872\n",
            "OrderedDict([('weights', tensor([0.4855])), ('bias', tensor([0.4018]))])\n",
            "Epoch: 70 | Loss: 0.09316585212945938 | Test loss: 0.10550753772258759\n",
            "OrderedDict([('weights', tensor([0.4916])), ('bias', tensor([0.4003]))])\n",
            "Epoch: 80 | Loss: 0.09286420047283173 | Test loss: 0.10512211173772812\n",
            "OrderedDict([('weights', tensor([0.4962])), ('bias', tensor([0.3978]))])\n",
            "Epoch: 90 | Loss: 0.09274826943874359 | Test loss: 0.10499773174524307\n",
            "OrderedDict([('weights', tensor([0.4990])), ('bias', tensor([0.3958]))])\n",
            "Epoch: 100 | Loss: 0.09263426810503006 | Test loss: 0.10489609092473984\n",
            "OrderedDict([('weights', tensor([0.5016])), ('bias', tensor([0.3938]))])\n",
            "Epoch: 110 | Loss: 0.09252090007066727 | Test loss: 0.10464885085821152\n",
            "OrderedDict([('weights', tensor([0.5045])), ('bias', tensor([0.3923]))])\n",
            "Epoch: 120 | Loss: 0.09242720901966095 | Test loss: 0.10458141565322876\n",
            "OrderedDict([('weights', tensor([0.5070])), ('bias', tensor([0.3903]))])\n",
            "Epoch: 130 | Loss: 0.09233511984348297 | Test loss: 0.10436835139989853\n",
            "OrderedDict([('weights', tensor([0.5097])), ('bias', tensor([0.3888]))])\n",
            "Epoch: 140 | Loss: 0.0922379270195961 | Test loss: 0.10415534675121307\n",
            "OrderedDict([('weights', tensor([0.5124])), ('bias', tensor([0.3873]))])\n",
            "Epoch: 150 | Loss: 0.09214069694280624 | Test loss: 0.10394231975078583\n",
            "OrderedDict([('weights', tensor([0.5151])), ('bias', tensor([0.3858]))])\n",
            "Epoch: 160 | Loss: 0.09204350411891937 | Test loss: 0.10372927039861679\n",
            "OrderedDict([('weights', tensor([0.5178])), ('bias', tensor([0.3843]))])\n",
            "Epoch: 170 | Loss: 0.0919480174779892 | Test loss: 0.10367325693368912\n",
            "OrderedDict([('weights', tensor([0.5202])), ('bias', tensor([0.3823]))])\n",
            "Epoch: 180 | Loss: 0.0918995812535286 | Test loss: 0.10339319705963135\n",
            "OrderedDict([('weights', tensor([0.5222])), ('bias', tensor([0.3818]))])\n",
            "Epoch: 190 | Loss: 0.09188958257436752 | Test loss: 0.1032031774520874\n",
            "OrderedDict([('weights', tensor([0.5232])), ('bias', tensor([0.3818]))])\n"
          ]
        }
      ]
    },
    {
      "cell_type": "code",
      "source": [
        "# Plot the loss curves\n",
        "plt.plot(epoch_count, np.array(torch.tensor(train_loss_values).numpy()), label=\"Train loss\")\n",
        "plt.plot(epoch_count, test_loss_values, label=\"Test loss\")\n",
        "plt.title(\"Training and test loss curves\")\n",
        "plt.xlabel(\"Epoch\")\n",
        "plt.ylabel(\"Loss\")\n",
        "plt.legend();"
      ],
      "metadata": {
        "colab": {
          "base_uri": "https://localhost:8080/",
          "height": 472
        },
        "id": "90oTTrS0B65N",
        "outputId": "5e74e275-b55c-41d1-b158-e27394fd23bc"
      },
      "execution_count": 69,
      "outputs": [
        {
          "output_type": "display_data",
          "data": {
            "text/plain": [
              "<Figure size 640x480 with 1 Axes>"
            ],
            "image/png": "[encoded data removed]"
          },
          "metadata": {}
        }
      ]
    },
    {
      "cell_type": "code",
      "source": [
        "with torch.inference_mode():\n",
        "  y_preds_new = model_0(X_test)"
      ],
      "metadata": {
        "id": "Y2JFNM-j1vI6"
      },
      "execution_count": 70,
      "outputs": []
    },
    {
      "cell_type": "code",
      "source": [
        "model_0.state_dict()"
      ],
      "metadata": {
        "colab": {
          "base_uri": "https://localhost:8080/"
        },
        "id": "jwdhNmywARnT",
        "outputId": "8498b0d4-093e-4115-8682-171325eb5b27"
      },
      "execution_count": 71,
      "outputs": [
        {
          "output_type": "execute_result",
          "data": {
            "text/plain": [
              "OrderedDict([('weights', tensor([0.5241])), ('bias', tensor([0.3818]))])"
            ]
          },
          "metadata": {},
          "execution_count": 71
        }
      ]
    },
    {
      "cell_type": "code",
      "source": [
        "plot_predictions(predictions=y_preds);"
      ],
      "metadata": {
        "colab": {
          "base_uri": "https://localhost:8080/",
          "height": 460
        },
        "id": "Hgm_nu1W1kTG",
        "outputId": "d15df09e-3427-46c3-8c93-2928468f1c73"
      },
      "execution_count": 72,
      "outputs": [
        {
          "output_type": "display_data",
          "data": {
            "text/plain": [
              "<Figure size 1000x700 with 1 Axes>"
            ],
            "image/png": "[encoded data removed]"
          },
          "metadata": {}
        }
      ]
    },
    {
      "cell_type": "code",
      "source": [
        "plot_predictions(predictions=y_preds_new);"
      ],
      "metadata": {
        "colab": {
          "base_uri": "https://localhost:8080/",
          "height": 460
        },
        "id": "VZZeg_xW2lXq",
        "outputId": "a3889657-0542-4ce6-c489-480cc7a970b9"
      },
      "execution_count": 73,
      "outputs": [
        {
          "output_type": "display_data",
          "data": {
            "text/plain": [
              "<Figure size 1000x700 with 1 Axes>"
            ],
            "image/png": "[encoded data removed]"
          },
          "metadata": {}
        }
      ]
    },
    {
      "cell_type": "markdown",
      "source": [
        "## Saving a model in PyTorch\n",
        "\n",
        "There are three main methods for saving and loading models in PyTorch.\n",
        "\n",
        "1. `torch.save()` - allows you to save a PyTorch object in Python's pickle format\n",
        "2. `torch.load()` - allows you to load a saved PyTorch object\n",
        "3. `torch.nn.Module.load_state_dict` - this allows you to load a model's saved state dictionary\n",
        "\n",
        "PyTorhc save and load code tutorial + extra-curriculum https://pytorch.org/tutorials/beginner/saving_loading_models.html#saving-loading-model-for-inference"
      ],
      "metadata": {
        "id": "R20mzOhh2zAp"
      }
    },
    {
      "cell_type": "code",
      "source": [
        "# Saving our PyTorhc model\n",
        "from pathlib import Path\n",
        "\n",
        "# 1. Create models directory\n",
        "MODEL_PATH = Path(\"models\")\n",
        "MODEL_PATH.mkdir(parents=True, exist_ok=True)\n",
        "\n",
        "#2. Create model save path\n",
        "MODEL_NAME = \"01_pytorch_workflow_model_0.pth\"\n",
        "MODEL_SAVE_PATH = MODEL_PATH / MODEL_NAME\n",
        "\n",
        "# Save the model state_dict()\n",
        "print(f\"Saving model to: {MODEL_SAVE_PATH}\")\n",
        "torch.save(obj= model_0.state_dict(),\n",
        "           f=MODEL_SAVE_PATH)\n"
      ],
      "metadata": {
        "colab": {
          "base_uri": "https://localhost:8080/"
        },
        "id": "d3fbc9MPEgSz",
        "outputId": "cb60e19a-ef37-4305-d024-350f95298bad"
      },
      "execution_count": 74,
      "outputs": [
        {
          "output_type": "stream",
          "name": "stdout",
          "text": [
            "Saving model to: models/01_pytorch_workflow_model_0.pth\n"
          ]
        }
      ]
    },
    {
      "cell_type": "code",
      "source": [
        "!ls -l models"
      ],
      "metadata": {
        "colab": {
          "base_uri": "https://localhost:8080/"
        },
        "id": "TmobEIMhGPJ0",
        "outputId": "99358139-96d6-4fa8-a632-8ab86695a395"
      },
      "execution_count": 75,
      "outputs": [
        {
          "output_type": "stream",
          "name": "stdout",
          "text": [
            "total 4\n",
            "-rw-r--r-- 1 root root 1680 Apr  6 10:48 01_pytorch_workflow_model_0.pth\n"
          ]
        }
      ]
    },
    {
      "cell_type": "markdown",
      "source": [
        "## Loading a PyTorch model\n",
        "\n",
        "Since we saved our model's `state_dict()`, we'll create a new instance of our model class and load the saved `state_dict()` into that.\n"
      ],
      "metadata": {
        "id": "ewSMneNVHNbw"
      }
    },
    {
      "cell_type": "code",
      "source": [
        "# To load in a saved state_dict we have to instantiate a new instance of our model class\n",
        "loaded_model_0 = LinearRegressionModel()\n",
        "\n",
        "# Load the saved state_dict() of model_0 (this will update the new instance with updated parameters)\n",
        "loaded_model_0.load_state_dict(torch.load(f=MODEL_SAVE_PATH))"
      ],
      "metadata": {
        "colab": {
          "base_uri": "https://localhost:8080/"
        },
        "id": "K6EYBIM9KWce",
        "outputId": "981711c1-1679-471b-860d-588df6c42f33"
      },
      "execution_count": 76,
      "outputs": [
        {
          "output_type": "execute_result",
          "data": {
            "text/plain": [
              "<All keys matched successfully>"
            ]
          },
          "metadata": {},
          "execution_count": 76
        }
      ]
    },
    {
      "cell_type": "code",
      "source": [
        "loaded_model_0.state_dict()"
      ],
      "metadata": {
        "colab": {
          "base_uri": "https://localhost:8080/"
        },
        "id": "rBXSgLfHLC9i",
        "outputId": "d4a4b33f-d086-4de7-c883-013849741b22"
      },
      "execution_count": 77,
      "outputs": [
        {
          "output_type": "execute_result",
          "data": {
            "text/plain": [
              "OrderedDict([('weights', tensor([0.5241])), ('bias', tensor([0.3818]))])"
            ]
          },
          "metadata": {},
          "execution_count": 77
        }
      ]
    },
    {
      "cell_type": "code",
      "source": [
        "# Make some predictions with our loaded model\n",
        "loaded_model_0.eval()\n",
        "with torch.inference_mode():\n",
        "  loaded_model_preds = loaded_model_0(X_test)\n",
        "loaded_model_preds\n"
      ],
      "metadata": {
        "colab": {
          "base_uri": "https://localhost:8080/"
        },
        "id": "3mJPhXHyLH61",
        "outputId": "8183567f-cfc9-4c33-c04e-6fd1fcdaa9a6"
      },
      "execution_count": 78,
      "outputs": [
        {
          "output_type": "execute_result",
          "data": {
            "text/plain": [
              "tensor([[0.8011],\n",
              "        [0.8115],\n",
              "        [0.8220],\n",
              "        [0.8325],\n",
              "        [0.8430],\n",
              "        [0.8535],\n",
              "        [0.8640],\n",
              "        [0.8744],\n",
              "        [0.8849],\n",
              "        [0.8954]])"
            ]
          },
          "metadata": {},
          "execution_count": 78
        }
      ]
    },
    {
      "cell_type": "code",
      "source": [
        "# Make some models preds\n",
        "model_0.eval()\n",
        "with torch.inference_mode():\n",
        "  y_preds = model_0(X_test)\n"
      ],
      "metadata": {
        "id": "LMu9va8ULhQv"
      },
      "execution_count": 79,
      "outputs": []
    },
    {
      "cell_type": "code",
      "source": [
        "# Compare loaded model preds with original model preds\n",
        "y_preds == loaded_model_preds"
      ],
      "metadata": {
        "colab": {
          "base_uri": "https://localhost:8080/"
        },
        "id": "QFc9q0GkLX_4",
        "outputId": "6327eba9-eb37-42af-e59d-83cebdd86d73"
      },
      "execution_count": 80,
      "outputs": [
        {
          "output_type": "execute_result",
          "data": {
            "text/plain": [
              "tensor([[True],\n",
              "        [True],\n",
              "        [True],\n",
              "        [True],\n",
              "        [True],\n",
              "        [True],\n",
              "        [True],\n",
              "        [True],\n",
              "        [True],\n",
              "        [True]])"
            ]
          },
          "metadata": {},
          "execution_count": 80
        }
      ]
    },
    {
      "cell_type": "markdown",
      "source": [
        "## 6. Putting it all together\n",
        "\n",
        "Let's go back through the steps above and see it all in one place.\n"
      ],
      "metadata": {
        "id": "fKGUVVHlLwIV"
      }
    },
    {
      "cell_type": "code",
      "source": [
        "# Import PyTorch and matplotlib\n",
        "import torch\n",
        "from torch import nn\n",
        "import matplotlib\n",
        "\n",
        "# Check PyTorch version\n",
        "torch.__version__\n"
      ],
      "metadata": {
        "colab": {
          "base_uri": "https://localhost:8080/",
          "height": 35
        },
        "id": "4vNLwd-0Mn03",
        "outputId": "49944528-7555-42df-e700-57948c09811a"
      },
      "execution_count": 81,
      "outputs": [
        {
          "output_type": "execute_result",
          "data": {
            "text/plain": [
              "'2.2.1+cu121'"
            ],
            "application/vnd.google.colaboratory.intrinsic+json": {
              "type": "string"
            }
          },
          "metadata": {},
          "execution_count": 81
        }
      ]
    },
    {
      "cell_type": "markdown",
      "source": [
        "Create device agnostic code.\n",
        "\n",
        "This means if we've got access to a GPU, our code will use it (potentiall for faster computing).\n",
        "\n",
        "If no GPU is availabe, the code will default to using CPU.\n"
      ],
      "metadata": {
        "id": "-tqEqz1HM5Ux"
      }
    },
    {
      "cell_type": "code",
      "source": [
        "# Setup device agnostic code\n",
        "device = \"cuda\" if torch.cuda.is_available() else \"cpu\"\n",
        "print(f\"Using device: {device}\")"
      ],
      "metadata": {
        "colab": {
          "base_uri": "https://localhost:8080/"
        },
        "id": "qSenIKL598UK",
        "outputId": "33f26218-aee1-4cd4-b622-7e415afa4261"
      },
      "execution_count": 82,
      "outputs": [
        {
          "output_type": "stream",
          "name": "stdout",
          "text": [
            "Using device: cuda\n"
          ]
        }
      ]
    },
    {
      "cell_type": "markdown",
      "source": [
        "# 6.1 Data"
      ],
      "metadata": {
        "id": "ZMjCbkScMYJw"
      }
    },
    {
      "cell_type": "code",
      "source": [
        "random_seed = 42\n",
        "torch.manual_seed(random_seed)\n",
        "\n",
        "# Create some data using the linear regression formula of y = weight * X + bias\n",
        "weight = 0.7\n",
        "bias = 0.3\n",
        "\n",
        "#Create range values\n",
        "start = 0\n",
        "end = 1\n",
        "step = 0.02\n",
        "\n",
        "# Create X and y (feature and labels)\n",
        "X = torch.arange(start, end, step).unsqueeze(dim=1) # without unsqueeze errors will pop up\n",
        "error = torch.randn(X.shape)/10\n",
        "y = weight*X + bias + error\n",
        "X[:10], y[:10]\n"
      ],
      "metadata": {
        "colab": {
          "base_uri": "https://localhost:8080/"
        },
        "id": "aTPfGv1M-2EE",
        "outputId": "c7f8a972-a56f-447b-a27b-5dd46abd42b0"
      },
      "execution_count": 83,
      "outputs": [
        {
          "output_type": "execute_result",
          "data": {
            "text/plain": [
              "(tensor([[0.0000],\n",
              "         [0.0200],\n",
              "         [0.0400],\n",
              "         [0.0600],\n",
              "         [0.0800],\n",
              "         [0.1000],\n",
              "         [0.1200],\n",
              "         [0.1400],\n",
              "         [0.1600],\n",
              "         [0.1800]]),\n",
              " tensor([[0.4927],\n",
              "         [0.4627],\n",
              "         [0.4181],\n",
              "         [0.1314],\n",
              "         [0.4238],\n",
              "         [0.2465],\n",
              "         [0.3797],\n",
              "         [0.2375],\n",
              "         [0.3368],\n",
              "         [0.5909]]))"
            ]
          },
          "metadata": {},
          "execution_count": 83
        }
      ]
    },
    {
      "cell_type": "code",
      "source": [
        "# Split the data\n",
        "train_split = int(0.8 * len(X))\n",
        "X_train, y_train = X[:train_split], y[:train_split]\n",
        "X_test, y_test, = X[train_split:], y[train_split:]\n",
        "\n",
        "len(X_train), len(y_train), len(X_test), len(y_test)"
      ],
      "metadata": {
        "colab": {
          "base_uri": "https://localhost:8080/"
        },
        "id": "IsuJDRbP_XtN",
        "outputId": "bd494037-d02e-4119-fdef-6933fd749caf"
      },
      "execution_count": 84,
      "outputs": [
        {
          "output_type": "execute_result",
          "data": {
            "text/plain": [
              "(40, 40, 10, 10)"
            ]
          },
          "metadata": {},
          "execution_count": 84
        }
      ]
    },
    {
      "cell_type": "code",
      "source": [
        "# Plot the data\n",
        "# Note if you don't have the plot_predictions() function loaded, this will error\n",
        "plot_predictions(X_train, y_train, X_test, y_test)"
      ],
      "metadata": {
        "colab": {
          "base_uri": "https://localhost:8080/",
          "height": 460
        },
        "id": "nHd_N4SMBSJW",
        "outputId": "52987a2b-25a7-4cbb-81ae-16bb0840a36d"
      },
      "execution_count": 85,
      "outputs": [
        {
          "output_type": "display_data",
          "data": {
            "text/plain": [
              "<Figure size 1000x700 with 1 Axes>"
            ],
            "image/png": "[encoded data removed]"
          },
          "metadata": {}
        }
      ]
    },
    {
      "cell_type": "markdown",
      "source": [
        "## 6.2 Building a PyTorch linear model"
      ],
      "metadata": {
        "id": "_MvhlG1sBcqx"
      }
    },
    {
      "cell_type": "code",
      "source": [
        "model_1 = LinearRegressionModel()\n",
        "\n",
        "epoch_count = []\n",
        "train_loss_values = []\n",
        "test_loss_values = []\n",
        "\n",
        "# Loss function\n",
        "loss_fn = nn.MSELoss()\n",
        "\n",
        "# Optimizer\n",
        "optimizer = torch.optim.SGD(model_1.parameters(), lr=0.01)\n",
        "\n",
        "epochs = 200\n",
        "for epoch in range(epochs):\n",
        "  # print(epoch)\n",
        "  # Train the model\n",
        "  model_1.train()\n",
        "\n",
        "  # Make y_preds\n",
        "  y_pred = model_1(X_train)\n",
        "\n",
        "  # Calculate the loss\n",
        "  loss = loss_fn(y_pred, y_train)\n",
        "\n",
        "  # Zero grad the optimizer - PyTorch accumulates the gradients on subsequent backward passes (convenient for RNNs)\n",
        "  # Otherwise, the gradient would be a combination of the old gradient, which you have already used to update your model parameters and the newly-computed gradient\n",
        "  optimizer.zero_grad()\n",
        "\n",
        "  # The graph is differentiated w.r.t the loss and all variables will have their .grad variable accumulated with the gradient\n",
        "  loss.backward()\n",
        "\n",
        "  # Optimizer performs a parameter update based on the current gradient\n",
        "  optimizer.step()\n",
        "\n",
        "  # To test, turn the model into evaluation mode.\n",
        "  model_1.eval()\n",
        "\n",
        "  # Turn off the gradients with inference mode:\n",
        "  with torch.inference_mode():\n",
        "    #1. Forward pass on test data\n",
        "    test_pred = model_1(X_test)\n",
        "\n",
        "    #2. Calculate the loss on test data\n",
        "    test_loss = loss_fn(test_pred, y_test.type(torch.float)) # predictions come in torch.float datatype, so comparisons need to be done with tensors of the same type\n",
        "\n",
        "    # Print out what's happening:\n",
        "    if epoch %10 == 0:\n",
        "      epoch_count.append(epoch)\n",
        "      train_loss_values.append(loss)\n",
        "      test_loss_values.append(test_loss)\n",
        "      print(f\"Epoch: {epoch} | MSE Train Loss: {loss} | MSE Test Loss : {test_loss}\")\n",
        "\n",
        "\n"
      ],
      "metadata": {
        "colab": {
          "base_uri": "https://localhost:8080/"
        },
        "id": "g9SzcbfABz19",
        "outputId": "d59138a1-2a62-4b7e-88dd-bf58676fc9a1"
      },
      "execution_count": 129,
      "outputs": [
        {
          "output_type": "stream",
          "name": "stdout",
          "text": [
            "Epoch: 0 | MSE Train Loss: 2.4069550037384033 | MSE Test Loss : 4.577922821044922\n",
            "Epoch: 10 | MSE Train Loss: 1.521644949913025 | MSE Test Loss : 3.1280980110168457\n",
            "Epoch: 20 | MSE Train Loss: 0.9676793813705444 | MSE Test Loss : 2.1750357151031494\n",
            "Epoch: 30 | MSE Train Loss: 0.6209675073623657 | MSE Test Loss : 1.5425091981887817\n",
            "Epoch: 40 | MSE Train Loss: 0.40389305353164673 | MSE Test Loss : 1.1181684732437134\n",
            "Epoch: 50 | MSE Train Loss: 0.2679083049297333 | MSE Test Loss : 0.8300778269767761\n",
            "Epoch: 60 | MSE Train Loss: 0.1826474666595459 | MSE Test Loss : 0.6319395303726196\n",
            "Epoch: 70 | MSE Train Loss: 0.1291172206401825 | MSE Test Loss : 0.49377480149269104\n",
            "Epoch: 80 | MSE Train Loss: 0.09543760865926743 | MSE Test Loss : 0.3960322439670563\n",
            "Epoch: 90 | MSE Train Loss: 0.07417775690555573 | MSE Test Loss : 0.32585564255714417\n",
            "Epoch: 100 | MSE Train Loss: 0.060689784586429596 | MSE Test Loss : 0.2747129499912262\n",
            "Epoch: 110 | MSE Train Loss: 0.052066437900066376 | MSE Test Loss : 0.23688235878944397\n",
            "Epoch: 120 | MSE Train Loss: 0.04648923873901367 | MSE Test Loss : 0.20848341286182404\n",
            "Epoch: 130 | MSE Train Loss: 0.042820680886507034 | MSE Test Loss : 0.18685264885425568\n",
            "Epoch: 140 | MSE Train Loss: 0.04034923017024994 | MSE Test Loss : 0.17013880610466003\n",
            "Epoch: 150 | MSE Train Loss: 0.03862977772951126 | MSE Test Loss : 0.15703895688056946\n",
            "Epoch: 160 | MSE Train Loss: 0.03738386556506157 | MSE Test Loss : 0.14662417769432068\n",
            "Epoch: 170 | MSE Train Loss: 0.03643723577260971 | MSE Test Loss : 0.13822416961193085\n",
            "Epoch: 180 | MSE Train Loss: 0.03568084165453911 | MSE Test Loss : 0.1313498318195343\n",
            "Epoch: 190 | MSE Train Loss: 0.035046450793743134 | MSE Test Loss : 0.12564045190811157\n"
          ]
        }
      ]
    },
    {
      "cell_type": "code",
      "source": [
        "print(model_1.state_dict())"
      ],
      "metadata": {
        "colab": {
          "base_uri": "https://localhost:8080/"
        },
        "id": "aBOl0ojlNxkI",
        "outputId": "4550c296-54e3-488a-ad6b-5dccf06d1652"
      },
      "execution_count": 130,
      "outputs": [
        {
          "output_type": "stream",
          "name": "stdout",
          "text": [
            "OrderedDict([('weights', tensor([0.0325])), ('bias', tensor([0.5699]))])\n"
          ]
        }
      ]
    },
    {
      "cell_type": "code",
      "source": [
        "plt.scatter(X_train, y_train)\n",
        "plt.scatter(X_test, y_test)\n",
        "\n",
        "with torch.inference_mode():\n",
        "\n",
        "  y_pred = model_1(X_train)\n",
        "  print(y_pred)\n",
        "  test_pred = model_1(X_test)\n",
        "\n",
        "  plt.plot(X_train, y_pred)"
      ],
      "metadata": {
        "colab": {
          "base_uri": "https://localhost:8080/",
          "height": 1000
        },
        "id": "MP_7zVvlMOvv",
        "outputId": "12620321-9e38-4b71-83bc-fe16b9dea205"
      },
      "execution_count": 131,
      "outputs": [
        {
          "output_type": "stream",
          "name": "stdout",
          "text": [
            "tensor([[0.5699],\n",
            "        [0.5706],\n",
            "        [0.5712],\n",
            "        [0.5719],\n",
            "        [0.5725],\n",
            "        [0.5732],\n",
            "        [0.5738],\n",
            "        [0.5745],\n",
            "        [0.5751],\n",
            "        [0.5758],\n",
            "        [0.5764],\n",
            "        [0.5771],\n",
            "        [0.5777],\n",
            "        [0.5784],\n",
            "        [0.5790],\n",
            "        [0.5797],\n",
            "        [0.5803],\n",
            "        [0.5810],\n",
            "        [0.5816],\n",
            "        [0.5823],\n",
            "        [0.5829],\n",
            "        [0.5836],\n",
            "        [0.5842],\n",
            "        [0.5849],\n",
            "        [0.5855],\n",
            "        [0.5862],\n",
            "        [0.5868],\n",
            "        [0.5875],\n",
            "        [0.5881],\n",
            "        [0.5888],\n",
            "        [0.5894],\n",
            "        [0.5901],\n",
            "        [0.5907],\n",
            "        [0.5914],\n",
            "        [0.5920],\n",
            "        [0.5927],\n",
            "        [0.5933],\n",
            "        [0.5940],\n",
            "        [0.5946],\n",
            "        [0.5953]])\n"
          ]
        },
        {
          "output_type": "display_data",
          "data": {
            "text/plain": [
              "<Figure size 640x480 with 1 Axes>"
            ],
            "image/png": "[encoded data removed]"
          },
          "metadata": {}
        }
      ]
    },
    {
      "cell_type": "code",
      "source": [],
      "metadata": {
        "id": "lqFgFmBsMzS7"
      },
      "execution_count": null,
      "outputs": []
    }
  ]
}