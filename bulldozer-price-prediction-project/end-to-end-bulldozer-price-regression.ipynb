{
 "cells": [
  {
   "cell_type": "markdown",
   "id": "21e5ebd1-b799-486f-8169-89ac7e226781",
   "metadata": {},
   "source": [
    "# 🚜 Predicting the sale price of bulldozers using machine learning\n",
    "In this notebook, we are going to go through an example machine learning project with the goal of predicting the sale price of bulldozers. \n",
    "## 1. Problem definition\n",
    "> How well can we predict the future sales price, given its characteristics and previous examples of how much similar bulldozers have been sold for? \n",
    "## 2. Data\n",
    "The data is downloaded from the Kaggle Blue book for bulldozers competition: \n",
    "\n",
    "There are three main datasets:\n",
    "\n",
    "* Train.csv is the training set, which contains data through the end of 2011.\n",
    "* Valid.csv is the validation set, which contains data from January 1, 2012 - April 30, 2012 You make predictions on this set throughout the majority of the competition. Your score on this set is used to create the public leaderboard.\n",
    "* Test.csv is the test set, which won't be released until the last week of the competition. It contains data from May 1, 2012 - November 2012. Your score on the test set determines your final rank for the competition.\n",
    "## 3. Evaluation\n",
    "The evaluation metric for this competition is the RMSLE (root mean squared log error) between the actual and predicted auction prices. \n",
    "\n",
    "For more on the evaluation of this project check:\n",
    "https://www.kaggle.com/competitions/bluebook-for-bulldozers/overview\n",
    "\n",
    "Note: the goal for most regression evaluation metrics is to minimise the error. For exmaple \n",
    "## 4. Features"
   ]
  },
  {
   "cell_type": "code",
   "execution_count": 3,
   "id": "813392b3-93a7-47b3-aa22-10fb1f04f0c4",
   "metadata": {},
   "outputs": [],
   "source": [
    "import numpy as np\n",
    "import sklearn\n",
    "import pandas as pd\n",
    "import matplotlib.pyplot as plt"
   ]
  },
  {
   "cell_type": "code",
   "execution_count": null,
   "id": "a72809e9-cca6-4e0f-a094-5a87d3f7ee6a",
   "metadata": {},
   "outputs": [],
   "source": []
  }
 ],
 "metadata": {
  "kernelspec": {
   "display_name": "Python 3 (ipykernel)",
   "language": "python",
   "name": "python3"
  },
  "language_info": {
   "codemirror_mode": {
    "name": "ipython",
    "version": 3
   },
   "file_extension": ".py",
   "mimetype": "text/x-python",
   "name": "python",
   "nbconvert_exporter": "python",
   "pygments_lexer": "ipython3",
   "version": "3.12.2"
  }
 },
 "nbformat": 4,
 "nbformat_minor": 5
}
