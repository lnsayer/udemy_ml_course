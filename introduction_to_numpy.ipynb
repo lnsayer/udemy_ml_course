{
 "cells": [
  {
   "cell_type": "code",
   "execution_count": 2,
   "id": "a6c7daa2-8ec2-4cfe-a6ac-19398e179562",
   "metadata": {},
   "outputs": [],
   "source": [
    "import numpy as np"
   ]
  },
  {
   "cell_type": "code",
   "execution_count": 33,
   "id": "19a4efbf-76c2-464e-a172-712755acab73",
   "metadata": {},
   "outputs": [
    {
     "name": "stdout",
     "output_type": "stream",
     "text": [
      "[1 2 3] [[1 2 3]\n",
      " [4 5 6]] [[[ 1  2  3]\n",
      "  [ 4  5  6]\n",
      "  [ 7  8  9]]\n",
      "\n",
      " [[10 11 12]\n",
      "  [13 14 15]\n",
      "  [16 17 18]]]\n"
     ]
    }
   ],
   "source": [
    "a1 = np.array([1,2,3])\n",
    "a2 = np.array([[1,2,3],[4,5,6]])\n",
    "a3 = np.array([[ [1,2,3], [4,5,6], [7,8,9] ]  ,  [ [10,11,12],[13,14,15],[16,17,18] ]])\n",
    "print(a1,a2,a3)"
   ]
  },
  {
   "cell_type": "code",
   "execution_count": 4,
   "id": "c8af8c28-2012-49cf-8292-20a7f1c8be40",
   "metadata": {},
   "outputs": [
    {
     "name": "stdout",
     "output_type": "stream",
     "text": [
      "3\n",
      "int64\n",
      "5.0\n"
     ]
    }
   ],
   "source": [
    "print(a3.ndim)\n",
    "print(a3.dtype)\n",
    "print(a3.mean())"
   ]
  },
  {
   "cell_type": "code",
   "execution_count": 5,
   "id": "515f0cdb-c0a4-413e-851b-8847e2776941",
   "metadata": {},
   "outputs": [
    {
     "name": "stdout",
     "output_type": "stream",
     "text": [
      "[0 2 4 6 8]\n"
     ]
    }
   ],
   "source": [
    "range_array = np.arange(0,10,2)\n",
    "print(range_array)"
   ]
  },
  {
   "cell_type": "code",
   "execution_count": 6,
   "id": "25221985-fa77-4bb9-a292-e5b0f9f5819e",
   "metadata": {},
   "outputs": [
    {
     "data": {
      "text/plain": [
       "array([[[8, 4, 2, 6, 0],\n",
       "        [8, 0, 2, 7, 4],\n",
       "        [9, 1, 6, 6, 7],\n",
       "        [2, 8, 1, 5, 8]],\n",
       "\n",
       "       [[9, 0, 7, 8, 7],\n",
       "        [0, 1, 8, 7, 6],\n",
       "        [0, 6, 6, 6, 8],\n",
       "        [7, 0, 7, 9, 1]]])"
      ]
     },
     "execution_count": 6,
     "metadata": {},
     "output_type": "execute_result"
    }
   ],
   "source": [
    "#returns random array of integers from low to high\n",
    "random_array = np.random.randint(0,10, size=(2,4,5))\n",
    "random_array"
   ]
  },
  {
   "cell_type": "code",
   "execution_count": 7,
   "id": "46aca363-b2ee-454e-a829-b622c068d71b",
   "metadata": {},
   "outputs": [
    {
     "data": {
      "text/plain": [
       "array([[0.847169  , 0.51815599, 0.79778756, 0.10307323, 0.78981778],\n",
       "       [0.00774969, 0.08501417, 0.65531964, 0.81567954, 0.07905811],\n",
       "       [0.15546001, 0.39747176, 0.69027043, 0.66600279, 0.43074045]])"
      ]
     },
     "execution_count": 7,
     "metadata": {},
     "output_type": "execute_result"
    }
   ],
   "source": [
    "#returns random floats in interval 0 -> 1 in a given size\n",
    "random_array_2 = np.random.random((3,5))\n",
    "random_array_2"
   ]
  },
  {
   "cell_type": "code",
   "execution_count": 8,
   "id": "c9212d21-6451-4231-ac0e-b51ee4f5cad4",
   "metadata": {},
   "outputs": [
    {
     "data": {
      "text/plain": [
       "array([[0.87792316, 0.37939586, 0.07361657, 0.92120402, 0.64156175],\n",
       "       [0.67523122, 0.28068458, 0.06985541, 0.39116654, 0.80815675],\n",
       "       [0.13969359, 0.68910295, 0.5696571 , 0.11164765, 0.89451325]])"
      ]
     },
     "execution_count": 8,
     "metadata": {},
     "output_type": "execute_result"
    }
   ],
   "source": [
    "random_array_3 = np.random.rand(3,5)\n",
    "random_array_3"
   ]
  },
  {
   "cell_type": "code",
   "execution_count": 11,
   "id": "e2a6f27f-ac9c-4329-944a-2889afef52fa",
   "metadata": {},
   "outputs": [
    {
     "data": {
      "text/plain": [
       "array([[5, 0, 3],\n",
       "       [3, 7, 9],\n",
       "       [3, 5, 2],\n",
       "       [4, 7, 6],\n",
       "       [8, 8, 1]])"
      ]
     },
     "execution_count": 11,
     "metadata": {},
     "output_type": "execute_result"
    }
   ],
   "source": [
    "#pseudo random\n",
    "np.random.seed(seed=0)\n",
    "random_array_4 = np.random.randint(10, size=(5,3))\n",
    "random_array_4"
   ]
  },
  {
   "cell_type": "code",
   "execution_count": 21,
   "id": "898ce87f-b66d-4ab5-a73f-6b8c829df007",
   "metadata": {},
   "outputs": [
    {
     "data": {
      "text/plain": [
       "array([[0.07630829, 0.77991879, 0.43840923],\n",
       "       [0.72346518, 0.97798951, 0.53849587],\n",
       "       [0.50112046, 0.07205113, 0.26843898],\n",
       "       [0.4998825 , 0.67923   , 0.80373904],\n",
       "       [0.38094113, 0.06593635, 0.2881456 ]])"
      ]
     },
     "execution_count": 21,
     "metadata": {},
     "output_type": "execute_result"
    }
   ],
   "source": [
    "np.random.seed(7)\n",
    "random_array_5 = np.random.random((5,3))\n",
    "random_array_5"
   ]
  },
  {
   "cell_type": "markdown",
   "id": "c85c00f8-6c54-4eda-bb33-f9143b61fce5",
   "metadata": {},
   "source": [
    "## 3. Viewing arrays and matrices"
   ]
  },
  {
   "cell_type": "code",
   "execution_count": 22,
   "id": "5f73f4be-d60e-48cc-a7ca-02f261403f69",
   "metadata": {},
   "outputs": [
    {
     "data": {
      "text/plain": [
       "array([0, 1, 2, 3, 4, 5, 6, 7, 8, 9])"
      ]
     },
     "execution_count": 22,
     "metadata": {},
     "output_type": "execute_result"
    }
   ],
   "source": [
    "np.unique(random_array_4)"
   ]
  },
  {
   "cell_type": "code",
   "execution_count": 25,
   "id": "75244f72-71e6-447a-9d70-acde7d22e44b",
   "metadata": {},
   "outputs": [
    {
     "data": {
      "text/plain": [
       "1"
      ]
     },
     "execution_count": 25,
     "metadata": {},
     "output_type": "execute_result"
    }
   ],
   "source": [
    "a1[0]"
   ]
  },
  {
   "cell_type": "code",
   "execution_count": 26,
   "id": "902176c2-5223-4d51-ae62-c960c5017c47",
   "metadata": {},
   "outputs": [
    {
     "data": {
      "text/plain": [
       "(2, 3)"
      ]
     },
     "execution_count": 26,
     "metadata": {},
     "output_type": "execute_result"
    }
   ],
   "source": [
    "a2.shape"
   ]
  },
  {
   "cell_type": "code",
   "execution_count": 28,
   "id": "931fe5c9-426b-4d57-84db-95a06e4ab31f",
   "metadata": {},
   "outputs": [
    {
     "data": {
      "text/plain": [
       "array([1, 2, 3])"
      ]
     },
     "execution_count": 28,
     "metadata": {},
     "output_type": "execute_result"
    }
   ],
   "source": [
    "a2[0]"
   ]
  },
  {
   "cell_type": "code",
   "execution_count": 34,
   "id": "aebce800-12ab-48c6-b2b8-c88ef9cd8216",
   "metadata": {},
   "outputs": [
    {
     "data": {
      "text/plain": [
       "(2, 3, 3)"
      ]
     },
     "execution_count": 34,
     "metadata": {},
     "output_type": "execute_result"
    }
   ],
   "source": [
    "a3.shape"
   ]
  },
  {
   "cell_type": "code",
   "execution_count": 35,
   "id": "63470013-8f23-475e-a09c-1a8d63ab4e1b",
   "metadata": {},
   "outputs": [
    {
     "data": {
      "text/plain": [
       "array([[1, 2, 3],\n",
       "       [4, 5, 6],\n",
       "       [7, 8, 9]])"
      ]
     },
     "execution_count": 35,
     "metadata": {},
     "output_type": "execute_result"
    }
   ],
   "source": [
    "a3[0]"
   ]
  },
  {
   "cell_type": "code",
   "execution_count": 36,
   "id": "e2cda281-498e-4e09-adf8-24b1dff4006f",
   "metadata": {},
   "outputs": [
    {
     "data": {
      "text/plain": [
       "array([[[ 1,  2],\n",
       "        [ 4,  5]],\n",
       "\n",
       "       [[10, 11],\n",
       "        [13, 14]]])"
      ]
     },
     "execution_count": 36,
     "metadata": {},
     "output_type": "execute_result"
    }
   ],
   "source": [
    " a3[:2, :2, :2]"
   ]
  },
  {
   "cell_type": "code",
   "execution_count": 39,
   "id": "58e4c7e7-ca92-4d41-b9ed-b45d981d4501",
   "metadata": {},
   "outputs": [
    {
     "data": {
      "text/plain": [
       "((2, 3, 4, 5),\n",
       " 4,\n",
       " array([[[[9, 3, 4, 0, 3],\n",
       "          [5, 6, 4, 0, 4],\n",
       "          [1, 5, 2, 4, 8],\n",
       "          [7, 5, 7, 5, 3]],\n",
       " \n",
       "         [[7, 6, 2, 3, 1],\n",
       "          [1, 8, 4, 2, 1],\n",
       "          [7, 0, 8, 8, 1],\n",
       "          [2, 3, 0, 1, 1]],\n",
       " \n",
       "         [[5, 5, 6, 0, 9],\n",
       "          [3, 2, 4, 2, 8],\n",
       "          [4, 9, 0, 0, 2],\n",
       "          [6, 3, 9, 5, 4]]],\n",
       " \n",
       " \n",
       "        [[[6, 9, 9, 9, 4],\n",
       "          [8, 2, 4, 6, 5],\n",
       "          [3, 5, 2, 6, 4],\n",
       "          [3, 2, 5, 9, 7]],\n",
       " \n",
       "         [[5, 8, 5, 2, 0],\n",
       "          [9, 3, 2, 2, 4],\n",
       "          [3, 4, 8, 7, 0],\n",
       "          [2, 7, 8, 8, 4]],\n",
       " \n",
       "         [[0, 4, 1, 7, 4],\n",
       "          [9, 0, 1, 0, 6],\n",
       "          [2, 0, 2, 4, 4],\n",
       "          [1, 0, 0, 2, 3]]]]))"
      ]
     },
     "execution_count": 39,
     "metadata": {},
     "output_type": "execute_result"
    }
   ],
   "source": [
    "a4 = np.random.randint(10, size = (2,3,4,5))\n",
    "a4.shape, a4.ndim, a4"
   ]
  },
  {
   "cell_type": "code",
   "execution_count": 45,
   "id": "3b0eb405-9b6e-461f-b342-6b4127a907db",
   "metadata": {},
   "outputs": [
    {
     "data": {
      "text/plain": [
       "(array([5, 8, 5, 2, 0]), array([2, 4, 2]))"
      ]
     },
     "execution_count": 45,
     "metadata": {},
     "output_type": "execute_result"
    }
   ],
   "source": [
    "a4[1,1,0], a4[0,2,1,1:4]\n"
   ]
  },
  {
   "cell_type": "code",
   "execution_count": 49,
   "id": "919d0779-da6c-4fd8-b32b-675f0c35cb03",
   "metadata": {},
   "outputs": [
    {
     "data": {
      "text/plain": [
       "array([[[[9, 3, 4, 0],\n",
       "         [5, 6, 4, 0],\n",
       "         [1, 5, 2, 4],\n",
       "         [7, 5, 7, 5]],\n",
       "\n",
       "        [[7, 6, 2, 3],\n",
       "         [1, 8, 4, 2],\n",
       "         [7, 0, 8, 8],\n",
       "         [2, 3, 0, 1]],\n",
       "\n",
       "        [[5, 5, 6, 0],\n",
       "         [3, 2, 4, 2],\n",
       "         [4, 9, 0, 0],\n",
       "         [6, 3, 9, 5]]],\n",
       "\n",
       "\n",
       "       [[[6, 9, 9, 9],\n",
       "         [8, 2, 4, 6],\n",
       "         [3, 5, 2, 6],\n",
       "         [3, 2, 5, 9]],\n",
       "\n",
       "        [[5, 8, 5, 2],\n",
       "         [9, 3, 2, 2],\n",
       "         [3, 4, 8, 7],\n",
       "         [2, 7, 8, 8]],\n",
       "\n",
       "        [[0, 4, 1, 7],\n",
       "         [9, 0, 1, 0],\n",
       "         [2, 0, 2, 4],\n",
       "         [1, 0, 0, 2]]]])"
      ]
     },
     "execution_count": 49,
     "metadata": {},
     "output_type": "execute_result"
    }
   ],
   "source": [
    "#get the first 4 numbers of the inner most arraya\n",
    "a4[:,:,:,:4]"
   ]
  },
  {
   "cell_type": "markdown",
   "id": "d7e7b43a-aaf7-4684-9533-393dd5b3a735",
   "metadata": {},
   "source": [
    "## 4. Manipulating and comparing arrays"
   ]
  },
  {
   "cell_type": "markdown",
   "id": "124c4d45-8e23-40a2-b6fb-24f64c058356",
   "metadata": {},
   "source": [
    "### Arithmetic"
   ]
  },
  {
   "cell_type": "code",
   "execution_count": 52,
   "id": "3d0939e9-34a0-43e0-b477-e82bc7e45e08",
   "metadata": {},
   "outputs": [
    {
     "data": {
      "text/plain": [
       "array([1, 2, 3])"
      ]
     },
     "execution_count": 52,
     "metadata": {},
     "output_type": "execute_result"
    }
   ],
   "source": [
    "a1"
   ]
  },
  {
   "cell_type": "code",
   "execution_count": 55,
   "id": "db5bf1ee-f328-4c2f-b4e1-a146f695ceaf",
   "metadata": {},
   "outputs": [
    {
     "data": {
      "text/plain": [
       "array([2., 3., 4.])"
      ]
     },
     "execution_count": 55,
     "metadata": {},
     "output_type": "execute_result"
    }
   ],
   "source": [
    "ones = np.ones(3)\n",
    "a1+ones"
   ]
  },
  {
   "cell_type": "code",
   "execution_count": 56,
   "id": "e49f5715-1ba5-43e7-b8ff-912567eb7971",
   "metadata": {},
   "outputs": [
    {
     "data": {
      "text/plain": [
       "array([1., 2., 3.])"
      ]
     },
     "execution_count": 56,
     "metadata": {},
     "output_type": "execute_result"
    }
   ],
   "source": [
    "a1*ones"
   ]
  },
  {
   "cell_type": "code",
   "execution_count": 64,
   "id": "a6a83934-5c40-415d-970e-f3bfeb6cde2e",
   "metadata": {},
   "outputs": [
    {
     "name": "stdout",
     "output_type": "stream",
     "text": [
      "[1 2 3] [[1 2 3]\n",
      " [4 5 6]]\n"
     ]
    },
    {
     "data": {
      "text/plain": [
       "((3,), (2, 3))"
      ]
     },
     "execution_count": 64,
     "metadata": {},
     "output_type": "execute_result"
    }
   ],
   "source": [
    "print(a1,a2)\n",
    "a1.shape, a2.shape"
   ]
  },
  {
   "cell_type": "code",
   "execution_count": 60,
   "id": "98119f77-7f84-4bee-8b5d-f91a8c50565a",
   "metadata": {},
   "outputs": [
    {
     "data": {
      "text/plain": [
       "(array([[ 1,  4,  9],\n",
       "        [ 4, 10, 18]]),\n",
       " array([[ 1,  4,  9],\n",
       "        [ 4, 10, 18]]))"
      ]
     },
     "execution_count": 60,
     "metadata": {},
     "output_type": "execute_result"
    }
   ],
   "source": [
    "a2*a1, a1*a2"
   ]
  },
  {
   "cell_type": "code",
   "execution_count": 61,
   "id": "2c94bf21-5e94-4858-b7e0-9f053e4454fe",
   "metadata": {},
   "outputs": [
    {
     "data": {
      "text/plain": [
       "(array([[1, 2, 3],\n",
       "        [4, 5, 6]]),\n",
       " array([[[ 1,  2,  3],\n",
       "         [ 4,  5,  6],\n",
       "         [ 7,  8,  9]],\n",
       " \n",
       "        [[10, 11, 12],\n",
       "         [13, 14, 15],\n",
       "         [16, 17, 18]]]))"
      ]
     },
     "execution_count": 61,
     "metadata": {},
     "output_type": "execute_result"
    }
   ],
   "source": [
    "a2, a3"
   ]
  },
  {
   "cell_type": "code",
   "execution_count": 62,
   "id": "5c1aa079-52ef-483d-98a7-96fd5a453541",
   "metadata": {},
   "outputs": [
    {
     "ename": "ValueError",
     "evalue": "operands could not be broadcast together with shapes (2,3) (2,3,3) ",
     "output_type": "error",
     "traceback": [
      "\u001b[0;31m---------------------------------------------------------------------------\u001b[0m",
      "\u001b[0;31mValueError\u001b[0m                                Traceback (most recent call last)",
      "Cell \u001b[0;32mIn[62], line 1\u001b[0m\n\u001b[0;32m----> 1\u001b[0m a2\u001b[38;5;241m*\u001b[39ma3\n",
      "\u001b[0;31mValueError\u001b[0m: operands could not be broadcast together with shapes (2,3) (2,3,3) "
     ]
    }
   ],
   "source": [
    "a2*a3"
   ]
  },
  {
   "cell_type": "code",
   "execution_count": null,
   "id": "9705d2cc-f8ad-4ee1-aa56-6f74bb037114",
   "metadata": {},
   "outputs": [],
   "source": [
    " "
   ]
  }
 ],
 "metadata": {
  "kernelspec": {
   "display_name": "Python 3 (ipykernel)",
   "language": "python",
   "name": "python3"
  },
  "language_info": {
   "codemirror_mode": {
    "name": "ipython",
    "version": 3
   },
   "file_extension": ".py",
   "mimetype": "text/x-python",
   "name": "python",
   "nbconvert_exporter": "python",
   "pygments_lexer": "ipython3",
   "version": "3.11.5"
  }
 },
 "nbformat": 4,
 "nbformat_minor": 5
}
