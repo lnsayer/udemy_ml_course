{
 "cells": [
  {
   "cell_type": "code",
   "execution_count": 1,
   "id": "a6c7daa2-8ec2-4cfe-a6ac-19398e179562",
   "metadata": {},
   "outputs": [],
   "source": [
    "import numpy as np"
   ]
  },
  {
   "cell_type": "code",
   "execution_count": 3,
   "id": "19a4efbf-76c2-464e-a172-712755acab73",
   "metadata": {},
   "outputs": [
    {
     "name": "stdout",
     "output_type": "stream",
     "text": [
      "[[[1]\n",
      "  [2]\n",
      "  [3]]\n",
      "\n",
      " [[4]\n",
      "  [5]\n",
      "  [6]]\n",
      "\n",
      " [[7]\n",
      "  [8]\n",
      "  [9]]]\n"
     ]
    }
   ],
   "source": [
    "array = np.array([ [[1],[2],[3]], [[4],[5],[6]], [[7],[8],[9]] ])\n",
    "print(array)"
   ]
  },
  {
   "cell_type": "code",
   "execution_count": 10,
   "id": "c8af8c28-2012-49cf-8292-20a7f1c8be40",
   "metadata": {},
   "outputs": [
    {
     "name": "stdout",
     "output_type": "stream",
     "text": [
      "3\n",
      "int64\n",
      "5.0\n"
     ]
    }
   ],
   "source": [
    "print(array.ndim)\n",
    "print(array.dtype)\n",
    "print(array.mean())"
   ]
  },
  {
   "cell_type": "code",
   "execution_count": 13,
   "id": "515f0cdb-c0a4-413e-851b-8847e2776941",
   "metadata": {},
   "outputs": [
    {
     "data": {
      "text/plain": [
       "array([0, 2, 4, 6, 8])"
      ]
     },
     "execution_count": 13,
     "metadata": {},
     "output_type": "execute_result"
    }
   ],
   "source": [
    "range_array = np.arange(0,10,2)\n",
    "print(range_array)"
   ]
  },
  {
   "cell_type": "code",
   "execution_count": 17,
   "id": "25221985-fa77-4bb9-a292-e5b0f9f5819e",
   "metadata": {},
   "outputs": [
    {
     "data": {
      "text/plain": [
       "array([[[3, 0, 7, 4, 9],\n",
       "        [6, 7, 7, 4, 5],\n",
       "        [2, 4, 4, 7, 3],\n",
       "        [5, 2, 4, 0, 8]],\n",
       "\n",
       "       [[3, 4, 7, 3, 2],\n",
       "        [7, 9, 3, 9, 6],\n",
       "        [0, 5, 3, 6, 7],\n",
       "        [1, 0, 4, 9, 2]]])"
      ]
     },
     "execution_count": 17,
     "metadata": {},
     "output_type": "execute_result"
    }
   ],
   "source": [
    "#returns random array of integers from low to high\n",
    "random_array = np.random.randint(0,10, size=(2,4,5))\n",
    "random_array"
   ]
  },
  {
   "cell_type": "code",
   "execution_count": 20,
   "id": "46aca363-b2ee-454e-a829-b622c068d71b",
   "metadata": {},
   "outputs": [
    {
     "data": {
      "text/plain": [
       "array([[0.17284105, 0.05634634, 0.9042178 , 0.81069811, 0.76345164],\n",
       "       [0.3024105 , 0.11502537, 0.73778936, 0.9354562 , 0.9190674 ],\n",
       "       [0.19102413, 0.06048023, 0.99877189, 0.68777002, 0.04766476]])"
      ]
     },
     "execution_count": 20,
     "metadata": {},
     "output_type": "execute_result"
    }
   ],
   "source": [
    "#returns random floats in interval 0 -> 1 in a given size\n",
    "random_array_2 = np.random.random((3,5))\n",
    "random_array_2"
   ]
  },
  {
   "cell_type": "code",
   "execution_count": 23,
   "id": "c9212d21-6451-4231-ac0e-b51ee4f5cad4",
   "metadata": {},
   "outputs": [
    {
     "data": {
      "text/plain": [
       "array([[0.28867258, 0.7092264 , 0.7892334 , 0.57599781, 0.90795848],\n",
       "       [0.11190968, 0.88267142, 0.43451126, 0.28122804, 0.14707488],\n",
       "       [0.21134266, 0.14537437, 0.83603017, 0.74106416, 0.69621644]])"
      ]
     },
     "execution_count": 23,
     "metadata": {},
     "output_type": "execute_result"
    }
   ],
   "source": [
    "random_array_3 = np.random.rand(3,5)\n",
    "random_array_3"
   ]
  },
  {
   "cell_type": "code",
   "execution_count": null,
   "id": "e2a6f27f-ac9c-4329-944a-2889afef52fa",
   "metadata": {},
   "outputs": [],
   "source": []
  }
 ],
 "metadata": {
  "kernelspec": {
   "display_name": "Python 3 (ipykernel)",
   "language": "python",
   "name": "python3"
  },
  "language_info": {
   "codemirror_mode": {
    "name": "ipython",
    "version": 3
   },
   "file_extension": ".py",
   "mimetype": "text/x-python",
   "name": "python",
   "nbconvert_exporter": "python",
   "pygments_lexer": "ipython3",
   "version": "3.11.5"
  }
 },
 "nbformat": 4,
 "nbformat_minor": 5
}
