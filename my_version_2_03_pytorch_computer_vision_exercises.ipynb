{
  "nbformat": 4,
  "nbformat_minor": 0,
  "metadata": {
    "colab": {
      "provenance": [],
      "gpuType": "T4",
      "include_colab_link": true
    },
    "kernelspec": {
      "name": "python3",
      "display_name": "Python 3"
    },
    "language_info": {
      "name": "python"
    },
    "accelerator": "GPU"
  },
  "cells": [
    {
      "cell_type": "markdown",
      "metadata": {
        "id": "view-in-github",
        "colab_type": "text"
      },
      "source": [
        "<a href=\"https://colab.research.google.com/github/lnsayer/udemy_ml_course/blob/main/my_version_2_03_pytorch_computer_vision_exercises.ipynb\" target=\"_parent\"><img src=\"https://colab.research.google.com/assets/colab-badge.svg\" alt=\"Open In Colab\"/></a>"
      ]
    },
    {
      "cell_type": "markdown",
      "source": [
        "# 03. PyTorch Computer Vision Exercises\n",
        "\n",
        "The following is a collection of exercises based on computer vision fundamentals in PyTorch.\n",
        "\n",
        "They're a bunch of fun.\n",
        "\n",
        "You're going to get to write plenty of code!\n",
        "\n",
        "## Resources\n",
        "\n",
        "1. These exercises are based on [notebook 03 of the Learn PyTorch for Deep Learning course](https://www.learnpytorch.io/03_pytorch_computer_vision/).\n",
        "2. See a live [walkthrough of the solutions (errors and all) on YouTube](https://youtu.be/_PibmqpEyhA).\n",
        "  * **Note:** Going through these exercises took me just over 3 hours of solid coding, so you should expect around the same.\n",
        "3. See [other solutions on the course GitHub](https://github.com/mrdbourke/pytorch-deep-learning/tree/main/extras/solutions)."
      ],
      "metadata": {
        "id": "Vex99np2wFVt"
      }
    },
    {
      "cell_type": "code",
      "source": [
        "# Check for GPU\n",
        "!nvidia-smi"
      ],
      "metadata": {
        "colab": {
          "base_uri": "https://localhost:8080/"
        },
        "id": "GaeYzOTLwWh2",
        "outputId": "282a7de5-283c-40bc-f5ce-e96be0900612"
      },
      "execution_count": 1,
      "outputs": [
        {
          "output_type": "stream",
          "name": "stdout",
          "text": [
            "/bin/bash: line 1: nvidia-smi: command not found\n"
          ]
        }
      ]
    },
    {
      "cell_type": "code",
      "source": [
        "# Import torch\n",
        "import torch\n",
        "\n",
        "# Exercises require PyTorch > 1.10.0\n",
        "print(torch.__version__)\n",
        "\n",
        "# Setup device agnostic code\n",
        "device = \"cuda\" if torch.cuda.is_available() else \"cpu\"\n",
        "device"
      ],
      "metadata": {
        "colab": {
          "base_uri": "https://localhost:8080/",
          "height": 53
        },
        "id": "DNwZLMbCzJLk",
        "outputId": "c16a31a8-670c-401b-c7e2-8afe1d1f2bad"
      },
      "execution_count": 26,
      "outputs": [
        {
          "output_type": "stream",
          "name": "stdout",
          "text": [
            "2.2.1+cu121\n"
          ]
        },
        {
          "output_type": "execute_result",
          "data": {
            "text/plain": [
              "'cpu'"
            ],
            "application/vnd.google.colaboratory.intrinsic+json": {
              "type": "string"
            }
          },
          "metadata": {},
          "execution_count": 26
        }
      ]
    },
    {
      "cell_type": "markdown",
      "source": [
        "## 1. What are 3 areas in industry where computer vision is currently being used?"
      ],
      "metadata": {
        "id": "FSFX7tc1w-en"
      }
    },
    {
      "cell_type": "markdown",
      "source": [
        "1. Self-driving cars, such as Tesla using computer vision to percieve what's happening on the road. See Tesla AI day for more - https://youtu.be/j0z4FweCy4M\n",
        "2. Healthcare imaging, such as using computer vision to help interpret X-rays. Google also uses computer vision for detecting polyps in the intenstines - https://ai.googleblog.com/2021/08/improved-detection-of-elusive-polyps.html\n",
        "3. Security, computer vision can be used to detect whether someone is invading your home or not - https://store.google.com/au/product/nest_cam_battery?hl=en-GB"
      ],
      "metadata": {
        "id": "VyWRkvWGbCXj"
      }
    },
    {
      "cell_type": "markdown",
      "source": [
        "## 2. Search \"what is overfitting in machine learning\" and write down a sentence about what you find."
      ],
      "metadata": {
        "id": "oBK-WI6YxDYa"
      }
    },
    {
      "cell_type": "code",
      "source": [],
      "metadata": {
        "id": "d1rxD6GObCqh"
      },
      "execution_count": null,
      "outputs": []
    },
    {
      "cell_type": "markdown",
      "source": [
        "## 3. Search \"ways to prevent overfitting in machine learning\", write down 3 of the things you find and a sentence about each.\n",
        "> **Note:** there are lots of these, so don't worry too much about all of them, just pick 3 and start with those."
      ],
      "metadata": {
        "id": "XeYFEqw8xK26"
      }
    },
    {
      "cell_type": "markdown",
      "source": [
        "### Early stopping\n",
        "We stop the learning of the network before it learns the noise of the training set. We could train for a large number of epochs and evaluate the performance on the validation set at certain epoch numbers. The optimal model is the one which has the lowest validation set error.\n",
        "\n",
        "### Pruning\n",
        "Selecting the most relevant features for our network. Identify important features in the training set and eliminate irrelevant ones. This can improve a model's generalisability and prevent overfitting.\n",
        "\n",
        "### Regularisation\n",
        "Eliminate factors which do not impact the prediction capabilities by grading features based on importance. For example, mathematical calculations apply a penalty to features with minimal impact.\n"
      ],
      "metadata": {
        "id": "ocvOdWKcbEKr"
      }
    },
    {
      "cell_type": "markdown",
      "source": [
        "## 4. Spend 20-minutes reading and clicking through the [CNN Explainer website](https://poloclub.github.io/cnn-explainer/).\n",
        "\n",
        "* Upload your own example image using the \"upload\" button on the website and see what happens in each layer of a CNN as your image passes through it."
      ],
      "metadata": {
        "id": "DKdEEFEqxM-8"
      }
    },
    {
      "cell_type": "code",
      "source": [],
      "metadata": {
        "id": "TqZaJIRMbFtS"
      },
      "execution_count": null,
      "outputs": []
    },
    {
      "cell_type": "markdown",
      "source": [
        "## 5. Load the [`torchvision.datasets.MNIST()`](https://pytorch.org/vision/stable/generated/torchvision.datasets.MNIST.html#torchvision.datasets.MNIST) train and test datasets."
      ],
      "metadata": {
        "id": "lvf-3pODxXYI"
      }
    },
    {
      "cell_type": "code",
      "source": [
        "import torchvision\n",
        "from torchvision import datasets\n",
        "\n",
        "from torchvision import transforms"
      ],
      "metadata": {
        "id": "SHjeuN81bHza"
      },
      "execution_count": 7,
      "outputs": []
    },
    {
      "cell_type": "code",
      "source": [
        "# Get the MNIST train dataset\n",
        "train_data = datasets.MNIST(root=\".\",\n",
        "                            train=True,\n",
        "                            download=True,\n",
        "                            transform=transforms.ToTensor()) # do we want to transform the data as we download it?\n",
        "\n",
        "# Get the MNIST test dataset\n",
        "test_data = datasets.MNIST(root=\".\",\n",
        "                           train=False,\n",
        "                           download=True,\n",
        "                           transform=transforms.ToTensor())"
      ],
      "metadata": {
        "colab": {
          "base_uri": "https://localhost:8080/"
        },
        "id": "olO_Ijy1Q8tv",
        "outputId": "239ac031-08be-4632-a6cc-008b45e34ea5"
      },
      "execution_count": 8,
      "outputs": [
        {
          "output_type": "stream",
          "name": "stdout",
          "text": [
            "Downloading http://yann.lecun.com/exdb/mnist/train-images-idx3-ubyte.gz\n",
            "Failed to download (trying next):\n",
            "HTTP Error 403: Forbidden\n",
            "\n",
            "Downloading https://ossci-datasets.s3.amazonaws.com/mnist/train-images-idx3-ubyte.gz\n",
            "Downloading https://ossci-datasets.s3.amazonaws.com/mnist/train-images-idx3-ubyte.gz to ./MNIST/raw/train-images-idx3-ubyte.gz\n"
          ]
        },
        {
          "output_type": "stream",
          "name": "stderr",
          "text": [
            "100%|██████████| 9912422/9912422 [00:00<00:00, 34454200.31it/s]\n"
          ]
        },
        {
          "output_type": "stream",
          "name": "stdout",
          "text": [
            "Extracting ./MNIST/raw/train-images-idx3-ubyte.gz to ./MNIST/raw\n",
            "\n",
            "Downloading http://yann.lecun.com/exdb/mnist/train-labels-idx1-ubyte.gz\n",
            "Failed to download (trying next):\n",
            "HTTP Error 403: Forbidden\n",
            "\n",
            "Downloading https://ossci-datasets.s3.amazonaws.com/mnist/train-labels-idx1-ubyte.gz\n",
            "Downloading https://ossci-datasets.s3.amazonaws.com/mnist/train-labels-idx1-ubyte.gz to ./MNIST/raw/train-labels-idx1-ubyte.gz\n"
          ]
        },
        {
          "output_type": "stream",
          "name": "stderr",
          "text": [
            "100%|██████████| 28881/28881 [00:00<00:00, 1331746.85it/s]"
          ]
        },
        {
          "output_type": "stream",
          "name": "stdout",
          "text": [
            "Extracting ./MNIST/raw/train-labels-idx1-ubyte.gz to ./MNIST/raw\n",
            "\n",
            "Downloading http://yann.lecun.com/exdb/mnist/t10k-images-idx3-ubyte.gz\n"
          ]
        },
        {
          "output_type": "stream",
          "name": "stderr",
          "text": [
            "\n"
          ]
        },
        {
          "output_type": "stream",
          "name": "stdout",
          "text": [
            "Failed to download (trying next):\n",
            "HTTP Error 403: Forbidden\n",
            "\n",
            "Downloading https://ossci-datasets.s3.amazonaws.com/mnist/t10k-images-idx3-ubyte.gz\n",
            "Downloading https://ossci-datasets.s3.amazonaws.com/mnist/t10k-images-idx3-ubyte.gz to ./MNIST/raw/t10k-images-idx3-ubyte.gz\n"
          ]
        },
        {
          "output_type": "stream",
          "name": "stderr",
          "text": [
            "100%|██████████| 1648877/1648877 [00:00<00:00, 9238482.97it/s]\n"
          ]
        },
        {
          "output_type": "stream",
          "name": "stdout",
          "text": [
            "Extracting ./MNIST/raw/t10k-images-idx3-ubyte.gz to ./MNIST/raw\n",
            "\n",
            "Downloading http://yann.lecun.com/exdb/mnist/t10k-labels-idx1-ubyte.gz\n",
            "Failed to download (trying next):\n",
            "HTTP Error 403: Forbidden\n",
            "\n",
            "Downloading https://ossci-datasets.s3.amazonaws.com/mnist/t10k-labels-idx1-ubyte.gz\n",
            "Downloading https://ossci-datasets.s3.amazonaws.com/mnist/t10k-labels-idx1-ubyte.gz to ./MNIST/raw/t10k-labels-idx1-ubyte.gz\n"
          ]
        },
        {
          "output_type": "stream",
          "name": "stderr",
          "text": [
            "100%|██████████| 4542/4542 [00:00<00:00, 3953212.03it/s]"
          ]
        },
        {
          "output_type": "stream",
          "name": "stdout",
          "text": [
            "Extracting ./MNIST/raw/t10k-labels-idx1-ubyte.gz to ./MNIST/raw\n",
            "\n"
          ]
        },
        {
          "output_type": "stream",
          "name": "stderr",
          "text": [
            "\n"
          ]
        }
      ]
    },
    {
      "cell_type": "code",
      "source": [
        "train_data, test_data"
      ],
      "metadata": {
        "colab": {
          "base_uri": "https://localhost:8080/"
        },
        "id": "7m32ZkekQ3sD",
        "outputId": "baef8d95-0c4f-4f5a-c377-c39865071dd1"
      },
      "execution_count": 9,
      "outputs": [
        {
          "output_type": "execute_result",
          "data": {
            "text/plain": [
              "(Dataset MNIST\n",
              "     Number of datapoints: 60000\n",
              "     Root location: .\n",
              "     Split: Train\n",
              "     StandardTransform\n",
              " Transform: ToTensor(),\n",
              " Dataset MNIST\n",
              "     Number of datapoints: 10000\n",
              "     Root location: .\n",
              "     Split: Test\n",
              "     StandardTransform\n",
              " Transform: ToTensor())"
            ]
          },
          "metadata": {},
          "execution_count": 9
        }
      ]
    },
    {
      "cell_type": "code",
      "source": [
        "len(train_data), len(test_data)"
      ],
      "metadata": {
        "colab": {
          "base_uri": "https://localhost:8080/"
        },
        "id": "23qgV580RC4j",
        "outputId": "1cee12ae-5280-4815-a899-52ed8af16bf8"
      },
      "execution_count": 10,
      "outputs": [
        {
          "output_type": "execute_result",
          "data": {
            "text/plain": [
              "(60000, 10000)"
            ]
          },
          "metadata": {},
          "execution_count": 10
        }
      ]
    },
    {
      "cell_type": "code",
      "source": [
        "# Data is in tuple form (image, label)\n",
        "img = train_data[0][0]\n",
        "label = train_data[0][1]\n",
        "# print(f\"Image:\\n {img}\")\n",
        "# print(f\"Label:\\n {label}\")"
      ],
      "metadata": {
        "id": "Wsrx83UiRI39"
      },
      "execution_count": 23,
      "outputs": []
    },
    {
      "cell_type": "code",
      "source": [
        "# Check out the shapes of our data\n",
        "print(f\"Image shape: {img.shape} -> [color_channels, height, width] (CHW)\")\n",
        "print(f\"Label: {label} -> no shape, due to being integer\")"
      ],
      "metadata": {
        "colab": {
          "base_uri": "https://localhost:8080/"
        },
        "id": "n0J-ED0iRNOh",
        "outputId": "ffa0b4ee-56ba-4895-ba95-d1999102d632"
      },
      "execution_count": 12,
      "outputs": [
        {
          "output_type": "stream",
          "name": "stdout",
          "text": [
            "Image shape: torch.Size([1, 28, 28]) -> [color_channels, height, width] (CHW)\n",
            "Label: 5 -> no shape, due to being integer\n"
          ]
        }
      ]
    },
    {
      "cell_type": "code",
      "source": [
        "# Get the class names from the dataset\n",
        "class_names = train_data.classes\n",
        "class_names"
      ],
      "metadata": {
        "colab": {
          "base_uri": "https://localhost:8080/"
        },
        "id": "Y_EJ5BQkRbJJ",
        "outputId": "e2138128-9860-42e8-920f-1cb69a7138ff"
      },
      "execution_count": 13,
      "outputs": [
        {
          "output_type": "execute_result",
          "data": {
            "text/plain": [
              "['0 - zero',\n",
              " '1 - one',\n",
              " '2 - two',\n",
              " '3 - three',\n",
              " '4 - four',\n",
              " '5 - five',\n",
              " '6 - six',\n",
              " '7 - seven',\n",
              " '8 - eight',\n",
              " '9 - nine']"
            ]
          },
          "metadata": {},
          "execution_count": 13
        }
      ]
    },
    {
      "cell_type": "markdown",
      "source": [
        "## 6. Visualize at least 5 different samples of the MNIST training dataset."
      ],
      "metadata": {
        "id": "qxZW-uAbxe_F"
      }
    },
    {
      "cell_type": "code",
      "source": [
        "import matplotlib.pyplot as plt\n",
        "for i in range(5):\n",
        "  img = train_data[i][0]\n",
        "  print(img.shape)\n",
        "  img_squeeze = img.squeeze()\n",
        "  print(img_squeeze.shape)\n",
        "  label = train_data[i][1]\n",
        "  plt.figure(figsize=(3, 3))\n",
        "  plt.imshow(img_squeeze, cmap=\"gray\")\n",
        "  plt.title(label)\n",
        "  plt.axis(False);"
      ],
      "metadata": {
        "id": "QVFsYi1PbItE",
        "colab": {
          "base_uri": "https://localhost:8080/",
          "height": 1000
        },
        "outputId": "f5025e57-b30a-4c93-e850-f1271d0c59de"
      },
      "execution_count": 15,
      "outputs": [
        {
          "output_type": "stream",
          "name": "stdout",
          "text": [
            "torch.Size([1, 28, 28])\n",
            "torch.Size([28, 28])\n",
            "torch.Size([1, 28, 28])\n",
            "torch.Size([28, 28])\n",
            "torch.Size([1, 28, 28])\n",
            "torch.Size([28, 28])\n",
            "torch.Size([1, 28, 28])\n",
            "torch.Size([28, 28])\n",
            "torch.Size([1, 28, 28])\n",
            "torch.Size([28, 28])\n"
          ]
        },
        {
          "output_type": "display_data",
          "data": {
            "text/plain": [
              "<Figure size 300x300 with 1 Axes>"
            ],
            "image/png": "[encoded data removed]"
          },
          "metadata": {}
        },
        {
          "output_type": "display_data",
          "data": {
            "text/plain": [
              "<Figure size 300x300 with 1 Axes>"
            ],
            "image/png": "[encoded data removed]"
          },
          "metadata": {}
        },
        {
          "output_type": "display_data",
          "data": {
            "text/plain": [
              "<Figure size 300x300 with 1 Axes>"
            ],
            "image/png": "[encoded data removed]"
          },
          "metadata": {}
        },
        {
          "output_type": "display_data",
          "data": {
            "text/plain": [
              "<Figure size 300x300 with 1 Axes>"
            ],
            "image/png": "[encoded data removed]"
          },
          "metadata": {}
        },
        {
          "output_type": "display_data",
          "data": {
            "text/plain": [
              "<Figure size 300x300 with 1 Axes>"
            ],
            "image/png": "[encoded data removed]"
          },
          "metadata": {}
        }
      ]
    },
    {
      "cell_type": "markdown",
      "source": [
        "## 7. Turn the MNIST train and test datasets into dataloaders using `torch.utils.data.DataLoader`, set the `batch_size=32`."
      ],
      "metadata": {
        "id": "JAPDzW0wxhi3"
      }
    },
    {
      "cell_type": "code",
      "source": [
        "# Create train dataloader\n",
        "from torch.utils.data import DataLoader\n",
        "\n",
        "train_dataloader = DataLoader(dataset=train_data,\n",
        "                              batch_size=32,\n",
        "                              shuffle=True)\n",
        "\n",
        "test_dataloader = DataLoader(dataset=test_data,\n",
        "                             batch_size=32,\n",
        "                             shuffle=False)"
      ],
      "metadata": {
        "id": "ALA6MPcFbJXQ"
      },
      "execution_count": 18,
      "outputs": []
    },
    {
      "cell_type": "code",
      "source": [
        "train_dataloader, test_dataloader"
      ],
      "metadata": {
        "colab": {
          "base_uri": "https://localhost:8080/"
        },
        "id": "xZmVPuLDR31T",
        "outputId": "958bd8c7-5332-484c-8de8-d533b4df4dd8"
      },
      "execution_count": 19,
      "outputs": [
        {
          "output_type": "execute_result",
          "data": {
            "text/plain": [
              "(<torch.utils.data.dataloader.DataLoader at 0x7f51ba0fbee0>,\n",
              " <torch.utils.data.dataloader.DataLoader at 0x7f51b9ff2ce0>)"
            ]
          },
          "metadata": {},
          "execution_count": 19
        }
      ]
    },
    {
      "cell_type": "code",
      "source": [
        "for sample in next(iter(train_dataloader)):\n",
        "  print(sample.shape)"
      ],
      "metadata": {
        "colab": {
          "base_uri": "https://localhost:8080/"
        },
        "id": "V8mCFaClR6ZI",
        "outputId": "1d23ae23-3d4a-4975-c1b0-b3171a334559"
      },
      "execution_count": 20,
      "outputs": [
        {
          "output_type": "stream",
          "name": "stdout",
          "text": [
            "torch.Size([32, 1, 28, 28])\n",
            "torch.Size([32])\n"
          ]
        }
      ]
    },
    {
      "cell_type": "code",
      "source": [
        "len(train_dataloader), len(test_dataloader)"
      ],
      "metadata": {
        "colab": {
          "base_uri": "https://localhost:8080/"
        },
        "id": "AT7m_mPVR91j",
        "outputId": "58a27781-4963-48b8-855b-8a6aac8e743f"
      },
      "execution_count": 21,
      "outputs": [
        {
          "output_type": "execute_result",
          "data": {
            "text/plain": [
              "(1875, 313)"
            ]
          },
          "metadata": {},
          "execution_count": 21
        }
      ]
    },
    {
      "cell_type": "markdown",
      "source": [
        "## 8. Recreate `model_2` used in notebook 03 (the same model from the [CNN Explainer website](https://poloclub.github.io/cnn-explainer/), also known as TinyVGG) capable of fitting on the MNIST dataset."
      ],
      "metadata": {
        "id": "bCCVfXk5xjYS"
      }
    },
    {
      "cell_type": "code",
      "source": [
        "from torch import nn\n",
        "class MNIST_model(torch.nn.Module):\n",
        "  \"\"\"Model capable of predicting on MNIST dataset.\n",
        "  \"\"\"\n",
        "  def __init__(self, input_shape: int, hidden_units: int, output_shape: int):\n",
        "    super().__init__()\n",
        "    self.conv_block_1 = nn.Sequential(\n",
        "      nn.Conv2d(in_channels=input_shape,\n",
        "                out_channels=hidden_units,\n",
        "                kernel_size=3,\n",
        "                stride=1,\n",
        "                padding=1),\n",
        "      nn.ReLU(),\n",
        "      nn.Conv2d(in_channels=hidden_units,\n",
        "                out_channels=hidden_units,\n",
        "                kernel_size=3,\n",
        "                stride=1,\n",
        "                padding=1),\n",
        "      nn.ReLU(),\n",
        "      nn.MaxPool2d(kernel_size=2)\n",
        "    )\n",
        "    self.conv_block_2 = nn.Sequential(\n",
        "      nn.Conv2d(in_channels=hidden_units,\n",
        "                out_channels=hidden_units,\n",
        "                kernel_size=3,\n",
        "                stride=1,\n",
        "                padding=1),\n",
        "      nn.ReLU(),\n",
        "      nn.Conv2d(in_channels=hidden_units,\n",
        "                out_channels=hidden_units,\n",
        "                kernel_size=3,\n",
        "                stride=1,\n",
        "                padding=1),\n",
        "      nn.ReLU(),\n",
        "      nn.MaxPool2d(kernel_size=2)\n",
        "    )\n",
        "    self.classifier = nn.Sequential(\n",
        "      nn.Flatten(),\n",
        "      nn.Linear(in_features=hidden_units*7*7,\n",
        "                out_features=output_shape)\n",
        "    )\n",
        "\n",
        "  def forward(self, x):\n",
        "    x = self.conv_block_1(x)\n",
        "    # print(f\"Output shape of conv block 1: {x.shape}\")\n",
        "    x = self.conv_block_2(x)\n",
        "    # print(f\"Output shape of conv block 2: {x.shape}\")\n",
        "    x = self.classifier(x)\n",
        "    # print(f\"Output shape of classifier: {x.shape}\")\n",
        "    return x"
      ],
      "metadata": {
        "id": "5IKNF22XbKYS"
      },
      "execution_count": 24,
      "outputs": []
    },
    {
      "cell_type": "code",
      "source": [
        "device"
      ],
      "metadata": {
        "colab": {
          "base_uri": "https://localhost:8080/",
          "height": 35
        },
        "id": "SwdSusbuTa-j",
        "outputId": "fd6a28c1-d400-4cfe-aefa-e376601c138a"
      },
      "execution_count": 25,
      "outputs": [
        {
          "output_type": "execute_result",
          "data": {
            "text/plain": [
              "'cpu'"
            ],
            "application/vnd.google.colaboratory.intrinsic+json": {
              "type": "string"
            }
          },
          "metadata": {},
          "execution_count": 25
        }
      ]
    },
    {
      "cell_type": "code",
      "source": [
        "model = MNIST_model(input_shape=1,\n",
        "                    hidden_units=10,\n",
        "                    output_shape=10).to(device)\n",
        "model"
      ],
      "metadata": {
        "colab": {
          "base_uri": "https://localhost:8080/"
        },
        "id": "Md4jtZOGTrMM",
        "outputId": "f00d363e-3bc5-41bb-e2ab-eb1843f0cd78"
      },
      "execution_count": 27,
      "outputs": [
        {
          "output_type": "execute_result",
          "data": {
            "text/plain": [
              "MNIST_model(\n",
              "  (conv_block_1): Sequential(\n",
              "    (0): Conv2d(1, 10, kernel_size=(3, 3), stride=(1, 1), padding=(1, 1))\n",
              "    (1): ReLU()\n",
              "    (2): Conv2d(10, 10, kernel_size=(3, 3), stride=(1, 1), padding=(1, 1))\n",
              "    (3): ReLU()\n",
              "    (4): MaxPool2d(kernel_size=2, stride=2, padding=0, dilation=1, ceil_mode=False)\n",
              "  )\n",
              "  (conv_block_2): Sequential(\n",
              "    (0): Conv2d(10, 10, kernel_size=(3, 3), stride=(1, 1), padding=(1, 1))\n",
              "    (1): ReLU()\n",
              "    (2): Conv2d(10, 10, kernel_size=(3, 3), stride=(1, 1), padding=(1, 1))\n",
              "    (3): ReLU()\n",
              "    (4): MaxPool2d(kernel_size=2, stride=2, padding=0, dilation=1, ceil_mode=False)\n",
              "  )\n",
              "  (classifier): Sequential(\n",
              "    (0): Flatten(start_dim=1, end_dim=-1)\n",
              "    (1): Linear(in_features=490, out_features=10, bias=True)\n",
              "  )\n",
              ")"
            ]
          },
          "metadata": {},
          "execution_count": 27
        }
      ]
    },
    {
      "cell_type": "code",
      "source": [
        "# Check out the model state dict to find out what patterns our model wants to learn\n",
        "# model.state_dict()"
      ],
      "metadata": {
        "colab": {
          "base_uri": "https://localhost:8080/"
        },
        "id": "x90jVN2lTuho",
        "outputId": "5abbc22e-9f1f-4a12-a5dd-aaac16913aa8"
      },
      "execution_count": 28,
      "outputs": [
        {
          "output_type": "execute_result",
          "data": {
            "text/plain": [
              "OrderedDict([('conv_block_1.0.weight',\n",
              "              tensor([[[[ 0.2528,  0.2483, -0.0561],\n",
              "                        [ 0.1001, -0.1650, -0.0512],\n",
              "                        [ 0.0372,  0.3236,  0.1270]]],\n",
              "              \n",
              "              \n",
              "                      [[[ 0.2172, -0.0341, -0.2497],\n",
              "                        [-0.1658,  0.1288,  0.0684],\n",
              "                        [-0.1723, -0.3144, -0.1033]]],\n",
              "              \n",
              "              \n",
              "                      [[[-0.0174, -0.2614, -0.1060],\n",
              "                        [ 0.3326,  0.2085,  0.3087],\n",
              "                        [-0.0552,  0.0939,  0.2269]]],\n",
              "              \n",
              "              \n",
              "                      [[[-0.1234, -0.0432,  0.0599],\n",
              "                        [ 0.2000,  0.1457,  0.1028],\n",
              "                        [ 0.1963, -0.0663, -0.1581]]],\n",
              "              \n",
              "              \n",
              "                      [[[ 0.0289, -0.3278, -0.0506],\n",
              "                        [ 0.0076, -0.3332,  0.0736],\n",
              "                        [ 0.0813, -0.1151, -0.0374]]],\n",
              "              \n",
              "              \n",
              "                      [[[-0.2658, -0.1710, -0.0951],\n",
              "                        [ 0.3050, -0.0194,  0.0875],\n",
              "                        [ 0.3075, -0.2918, -0.2378]]],\n",
              "              \n",
              "              \n",
              "                      [[[-0.0979, -0.1448,  0.1618],\n",
              "                        [ 0.2589,  0.0134, -0.0671],\n",
              "                        [ 0.2991,  0.3313, -0.2278]]],\n",
              "              \n",
              "              \n",
              "                      [[[ 0.3175, -0.1917,  0.0484],\n",
              "                        [-0.2517,  0.2762,  0.2789],\n",
              "                        [-0.2593, -0.3019, -0.2551]]],\n",
              "              \n",
              "              \n",
              "                      [[[-0.0205, -0.1362, -0.0583],\n",
              "                        [-0.0434,  0.2572,  0.2559],\n",
              "                        [ 0.1767,  0.1945,  0.0800]]],\n",
              "              \n",
              "              \n",
              "                      [[[ 0.0266,  0.3171, -0.0829],\n",
              "                        [-0.1424,  0.1550,  0.0435],\n",
              "                        [-0.2228, -0.2788,  0.2800]]]])),\n",
              "             ('conv_block_1.0.bias',\n",
              "              tensor([-0.1020,  0.3310, -0.0468, -0.2593,  0.3032,  0.1137, -0.0850,  0.3238,\n",
              "                      -0.2378,  0.2546])),\n",
              "             ('conv_block_1.2.weight',\n",
              "              tensor([[[[-0.0873,  0.0347, -0.0380],\n",
              "                        [-0.0126,  0.0713, -0.0874],\n",
              "                        [ 0.0982,  0.0434,  0.0463]],\n",
              "              \n",
              "                       [[ 0.0173,  0.0696,  0.0119],\n",
              "                        [-0.0885, -0.0779, -0.0775],\n",
              "                        [ 0.0289, -0.0787,  0.0803]],\n",
              "              \n",
              "                       [[ 0.0822, -0.0418, -0.0374],\n",
              "                        [ 0.0763, -0.0295, -0.0278],\n",
              "                        [ 0.0438,  0.0599,  0.0001]],\n",
              "              \n",
              "                       [[-0.0284,  0.0414,  0.0183],\n",
              "                        [ 0.0230, -0.0767, -0.0882],\n",
              "                        [ 0.0033,  0.0775, -0.0769]],\n",
              "              \n",
              "                       [[-0.0084,  0.0749, -0.0160],\n",
              "                        [ 0.0688,  0.0629,  0.0680],\n",
              "                        [-0.0741,  0.0903,  0.0342]],\n",
              "              \n",
              "                       [[-0.0912, -0.0103, -0.0454],\n",
              "                        [ 0.0838, -0.0810, -0.0741],\n",
              "                        [-0.0334,  0.0781, -0.0942]],\n",
              "              \n",
              "                       [[-0.0192, -0.0723, -0.0888],\n",
              "                        [ 0.0184, -0.1040,  0.0873],\n",
              "                        [ 0.0405, -0.0153,  0.0630]],\n",
              "              \n",
              "                       [[-0.0237,  0.0675, -0.0213],\n",
              "                        [-0.0161, -0.0453,  0.0680],\n",
              "                        [ 0.0588,  0.0714,  0.0296]],\n",
              "              \n",
              "                       [[-0.0447,  0.0848,  0.0669],\n",
              "                        [-0.0078, -0.0506, -0.0919],\n",
              "                        [ 0.0752,  0.0646, -0.0139]],\n",
              "              \n",
              "                       [[ 0.0210,  0.0232,  0.0695],\n",
              "                        [-0.0446, -0.0993, -0.0095],\n",
              "                        [ 0.0469,  0.0265, -0.0432]]],\n",
              "              \n",
              "              \n",
              "                      [[[ 0.0662, -0.0423, -0.0798],\n",
              "                        [ 0.0832,  0.0637, -0.0870],\n",
              "                        [ 0.0484, -0.1006,  0.0531]],\n",
              "              \n",
              "                       [[ 0.0470, -0.0584, -0.0953],\n",
              "                        [ 0.0649, -0.0853,  0.0521],\n",
              "                        [-0.0322, -0.0237, -0.0748]],\n",
              "              \n",
              "                       [[ 0.0230, -0.0795,  0.0705],\n",
              "                        [ 0.1019,  0.0878, -0.0338],\n",
              "                        [ 0.0825,  0.0091, -0.0547]],\n",
              "              \n",
              "                       [[ 0.0028,  0.1027, -0.0652],\n",
              "                        [ 0.1008,  0.0981, -0.0804],\n",
              "                        [ 0.0097, -0.0091,  0.0233]],\n",
              "              \n",
              "                       [[-0.0114,  0.0083, -0.0407],\n",
              "                        [-0.0955, -0.0041,  0.0158],\n",
              "                        [ 0.0604, -0.0863, -0.0613]],\n",
              "              \n",
              "                       [[-0.0329, -0.0865,  0.0632],\n",
              "                        [ 0.0116,  0.0939,  0.0152],\n",
              "                        [ 0.0311,  0.0963,  0.0090]],\n",
              "              \n",
              "                       [[-0.0317,  0.0646, -0.0567],\n",
              "                        [ 0.0101,  0.0545, -0.0323],\n",
              "                        [ 0.0496,  0.0636, -0.0084]],\n",
              "              \n",
              "                       [[-0.0039, -0.0672,  0.0748],\n",
              "                        [-0.0032, -0.0817, -0.0355],\n",
              "                        [ 0.0189,  0.0477, -0.0370]],\n",
              "              \n",
              "                       [[-0.0047, -0.1001, -0.0465],\n",
              "                        [ 0.0650,  0.0558, -0.0535],\n",
              "                        [ 0.0268, -0.0793,  0.0052]],\n",
              "              \n",
              "                       [[ 0.0894,  0.0642, -0.0925],\n",
              "                        [-0.0366,  0.0237, -0.0265],\n",
              "                        [-0.0270, -0.0187, -0.0657]]],\n",
              "              \n",
              "              \n",
              "                      [[[ 0.0976,  0.0677, -0.0180],\n",
              "                        [ 0.0756, -0.0791, -0.0091],\n",
              "                        [-0.0447, -0.0138,  0.0105]],\n",
              "              \n",
              "                       [[-0.0811, -0.0547, -0.0441],\n",
              "                        [ 0.0829,  0.0932, -0.0754],\n",
              "                        [ 0.0526, -0.0671,  0.0321]],\n",
              "              \n",
              "                       [[-0.0439, -0.0390, -0.0813],\n",
              "                        [-0.0474,  0.0832,  0.0695],\n",
              "                        [ 0.0730, -0.0871,  0.0024]],\n",
              "              \n",
              "                       [[-0.0621,  0.0031,  0.0936],\n",
              "                        [ 0.0625, -0.0660, -0.0891],\n",
              "                        [-0.0450,  0.0721,  0.0325]],\n",
              "              \n",
              "                       [[ 0.0568,  0.1052, -0.0957],\n",
              "                        [-0.0421,  0.0223,  0.0082],\n",
              "                        [ 0.0514, -0.1034,  0.0772]],\n",
              "              \n",
              "                       [[-0.0150,  0.0617,  0.0863],\n",
              "                        [-0.0073, -0.0887,  0.1001],\n",
              "                        [ 0.0298,  0.0662,  0.0513]],\n",
              "              \n",
              "                       [[ 0.0646,  0.0102, -0.0237],\n",
              "                        [ 0.0909, -0.0987, -0.0921],\n",
              "                        [-0.0392, -0.0302,  0.0931]],\n",
              "              \n",
              "                       [[-0.0551, -0.0026, -0.0476],\n",
              "                        [ 0.0167,  0.0392, -0.0555],\n",
              "                        [ 0.0550,  0.0060, -0.0394]],\n",
              "              \n",
              "                       [[ 0.1036,  0.0037, -0.0430],\n",
              "                        [-0.0461,  0.0617,  0.0063],\n",
              "                        [ 0.0291,  0.0512, -0.0637]],\n",
              "              \n",
              "                       [[ 0.0543, -0.0298, -0.0940],\n",
              "                        [-0.0187,  0.0682, -0.0364],\n",
              "                        [-0.0071,  0.0387, -0.0651]]],\n",
              "              \n",
              "              \n",
              "                      [[[ 0.0421, -0.0437, -0.0802],\n",
              "                        [-0.0707, -0.0801,  0.0810],\n",
              "                        [-0.0212,  0.0852,  0.0069]],\n",
              "              \n",
              "                       [[ 0.0926, -0.0811,  0.0656],\n",
              "                        [-0.0589, -0.0770,  0.0159],\n",
              "                        [ 0.0294,  0.0633, -0.0093]],\n",
              "              \n",
              "                       [[ 0.1005, -0.0391,  0.1018],\n",
              "                        [-0.0822, -0.0225,  0.0672],\n",
              "                        [ 0.0626,  0.0158,  0.0926]],\n",
              "              \n",
              "                       [[-0.0218, -0.0036,  0.0570],\n",
              "                        [ 0.0516,  0.0854, -0.0041],\n",
              "                        [-0.0952,  0.0460,  0.0999]],\n",
              "              \n",
              "                       [[-0.0970,  0.0463,  0.0786],\n",
              "                        [ 0.0905, -0.0188, -0.0325],\n",
              "                        [ 0.0994, -0.0892, -0.0340]],\n",
              "              \n",
              "                       [[-0.0178,  0.0573,  0.0497],\n",
              "                        [ 0.0677,  0.0132, -0.0460],\n",
              "                        [ 0.0539,  0.0508,  0.0016]],\n",
              "              \n",
              "                       [[-0.0093,  0.0952, -0.1034],\n",
              "                        [ 0.0690, -0.0465, -0.0065],\n",
              "                        [-0.0691,  0.0048, -0.0823]],\n",
              "              \n",
              "                       [[-0.0203,  0.0612, -0.0143],\n",
              "                        [ 0.0478, -0.0115,  0.0424],\n",
              "                        [ 0.0956, -0.0260,  0.0102]],\n",
              "              \n",
              "                       [[-0.0551, -0.0525, -0.0065],\n",
              "                        [-0.0827,  0.0618, -0.0186],\n",
              "                        [ 0.0029, -0.0448, -0.0055]],\n",
              "              \n",
              "                       [[-0.0873,  0.0134,  0.0736],\n",
              "                        [ 0.0608, -0.0852,  0.0494],\n",
              "                        [-0.0340, -0.0435,  0.0414]]],\n",
              "              \n",
              "              \n",
              "                      [[[ 0.0442,  0.0834, -0.0524],\n",
              "                        [-0.1027, -0.0148, -0.0094],\n",
              "                        [ 0.0694, -0.0283,  0.0593]],\n",
              "              \n",
              "                       [[ 0.0597, -0.0634,  0.0954],\n",
              "                        [-0.0624,  0.0590, -0.0628],\n",
              "                        [-0.0968,  0.0052,  0.0828]],\n",
              "              \n",
              "                       [[-0.0505,  0.0042,  0.0062],\n",
              "                        [-0.0392,  0.0995,  0.0365],\n",
              "                        [ 0.0350, -0.0677, -0.0723]],\n",
              "              \n",
              "                       [[-0.1044,  0.0021, -0.0847],\n",
              "                        [-0.0022, -0.0770,  0.0507],\n",
              "                        [ 0.0690, -0.0841, -0.0252]],\n",
              "              \n",
              "                       [[ 0.0650,  0.1031,  0.0277],\n",
              "                        [ 0.0555, -0.0256,  0.0148],\n",
              "                        [ 0.0827,  0.0681,  0.0367]],\n",
              "              \n",
              "                       [[ 0.0732,  0.0848, -0.0764],\n",
              "                        [ 0.1005, -0.0556, -0.0209],\n",
              "                        [-0.0219,  0.0348, -0.0340]],\n",
              "              \n",
              "                       [[ 0.0974, -0.0242, -0.0879],\n",
              "                        [-0.0854,  0.0151,  0.0451],\n",
              "                        [-0.0541,  0.0020, -0.0849]],\n",
              "              \n",
              "                       [[-0.0625, -0.0391, -0.0605],\n",
              "                        [ 0.0630, -0.0736,  0.0244],\n",
              "                        [-0.0826,  0.0799, -0.0737]],\n",
              "              \n",
              "                       [[ 0.0952,  0.0157, -0.0296],\n",
              "                        [ 0.0812,  0.0054, -0.0734],\n",
              "                        [-0.0917,  0.0566, -0.0246]],\n",
              "              \n",
              "                       [[-0.0016,  0.0405, -0.0127],\n",
              "                        [-0.0465, -0.0658, -0.0576],\n",
              "                        [ 0.0637,  0.0214, -0.0356]]],\n",
              "              \n",
              "              \n",
              "                      [[[-0.0088,  0.0300, -0.0040],\n",
              "                        [-0.0306, -0.0959,  0.0475],\n",
              "                        [ 0.0827, -0.0794,  0.0798]],\n",
              "              \n",
              "                       [[ 0.0370,  0.0142, -0.0642],\n",
              "                        [ 0.1035,  0.1049, -0.0324],\n",
              "                        [ 0.0386,  0.0784,  0.0139]],\n",
              "              \n",
              "                       [[-0.0151, -0.0721,  0.0836],\n",
              "                        [-0.0453, -0.0905,  0.0798],\n",
              "                        [-0.0248, -0.0410,  0.0011]],\n",
              "              \n",
              "                       [[ 0.0578, -0.0743, -0.0301],\n",
              "                        [-0.0334, -0.0835, -0.0112],\n",
              "                        [-0.1014, -0.0436,  0.0720]],\n",
              "              \n",
              "                       [[ 0.0442, -0.0452, -0.0670],\n",
              "                        [ 0.0225,  0.0292, -0.0183],\n",
              "                        [-0.0821,  0.0746, -0.0681]],\n",
              "              \n",
              "                       [[-0.0706, -0.0205, -0.0118],\n",
              "                        [ 0.0311, -0.0382, -0.0375],\n",
              "                        [-0.0020,  0.0029,  0.0864]],\n",
              "              \n",
              "                       [[-0.0880, -0.0186, -0.0509],\n",
              "                        [ 0.0263, -0.0928, -0.0077],\n",
              "                        [-0.0431,  0.0345, -0.0318]],\n",
              "              \n",
              "                       [[ 0.0624,  0.0688, -0.0801],\n",
              "                        [-0.0487,  0.0649,  0.0294],\n",
              "                        [-0.0971, -0.1000, -0.0774]],\n",
              "              \n",
              "                       [[-0.0356,  0.0808, -0.0635],\n",
              "                        [ 0.0880,  0.0378,  0.0970],\n",
              "                        [ 0.1007,  0.0593, -0.0175]],\n",
              "              \n",
              "                       [[ 0.0525, -0.0807,  0.0090],\n",
              "                        [-0.0588,  0.0628, -0.0805],\n",
              "                        [ 0.0007,  0.0480, -0.0522]]],\n",
              "              \n",
              "              \n",
              "                      [[[-0.0238,  0.0872,  0.0973],\n",
              "                        [-0.0765, -0.0629,  0.0465],\n",
              "                        [ 0.0154,  0.0544,  0.0365]],\n",
              "              \n",
              "                       [[ 0.0187, -0.0425,  0.0646],\n",
              "                        [-0.0658, -0.0197,  0.0525],\n",
              "                        [ 0.0284, -0.0837,  0.0631]],\n",
              "              \n",
              "                       [[ 0.0138, -0.0909,  0.0610],\n",
              "                        [-0.0420,  0.0371, -0.0681],\n",
              "                        [ 0.0778,  0.0208,  0.0075]],\n",
              "              \n",
              "                       [[-0.0538, -0.0567, -0.0862],\n",
              "                        [-0.0010,  0.0967, -0.0880],\n",
              "                        [ 0.0934,  0.0464, -0.0615]],\n",
              "              \n",
              "                       [[ 0.0612,  0.0904,  0.0237],\n",
              "                        [ 0.0153, -0.0307, -0.0077],\n",
              "                        [-0.0267, -0.0440,  0.0918]],\n",
              "              \n",
              "                       [[ 0.0636, -0.0621,  0.0347],\n",
              "                        [ 0.0635,  0.0375,  0.0829],\n",
              "                        [ 0.0042, -0.0289, -0.0046]],\n",
              "              \n",
              "                       [[ 0.0020, -0.0039, -0.0462],\n",
              "                        [-0.0540, -0.0277,  0.0886],\n",
              "                        [-0.0335, -0.0060,  0.0729]],\n",
              "              \n",
              "                       [[ 0.0373,  0.0165,  0.0605],\n",
              "                        [ 0.0878,  0.0594,  0.0767],\n",
              "                        [ 0.0074, -0.0060, -0.0019]],\n",
              "              \n",
              "                       [[-0.0540,  0.0454, -0.0693],\n",
              "                        [-0.1049,  0.0747, -0.0149],\n",
              "                        [ 0.0795,  0.0938, -0.0077]],\n",
              "              \n",
              "                       [[ 0.0819, -0.0841,  0.0334],\n",
              "                        [ 0.0341,  0.0550, -0.0317],\n",
              "                        [-0.0410,  0.0074,  0.0781]]],\n",
              "              \n",
              "              \n",
              "                      [[[-0.0195,  0.0047, -0.0091],\n",
              "                        [-0.0357,  0.0342,  0.0562],\n",
              "                        [ 0.0548, -0.0742, -0.0830]],\n",
              "              \n",
              "                       [[-0.0101, -0.0603, -0.0283],\n",
              "                        [ 0.0094,  0.0624, -0.0820],\n",
              "                        [ 0.0560, -0.0015, -0.0583]],\n",
              "              \n",
              "                       [[ 0.0193, -0.0270,  0.0511],\n",
              "                        [ 0.0856,  0.0441, -0.0782],\n",
              "                        [-0.0505,  0.0676, -0.0608]],\n",
              "              \n",
              "                       [[-0.0332,  0.0240,  0.0141],\n",
              "                        [-0.0047,  0.0572, -0.0279],\n",
              "                        [ 0.0534,  0.0370, -0.0748]],\n",
              "              \n",
              "                       [[-0.0741, -0.0231, -0.0987],\n",
              "                        [-0.0663, -0.0660,  0.0794],\n",
              "                        [ 0.0998, -0.0990,  0.0994]],\n",
              "              \n",
              "                       [[-0.1013,  0.0213,  0.0133],\n",
              "                        [-0.0854, -0.0145,  0.0239],\n",
              "                        [ 0.0732, -0.0641,  0.0087]],\n",
              "              \n",
              "                       [[-0.1019,  0.0162,  0.0390],\n",
              "                        [-0.0905, -0.0293, -0.0964],\n",
              "                        [ 0.0765, -0.0974,  0.0649]],\n",
              "              \n",
              "                       [[ 0.0403, -0.0445,  0.0830],\n",
              "                        [ 0.0914,  0.0392, -0.0014],\n",
              "                        [ 0.0471,  0.0067,  0.0055]],\n",
              "              \n",
              "                       [[-0.0518,  0.0386, -0.0112],\n",
              "                        [ 0.0204,  0.0196,  0.0461],\n",
              "                        [-0.0767, -0.0676, -0.0802]],\n",
              "              \n",
              "                       [[-0.0952, -0.0590, -0.0207],\n",
              "                        [ 0.0529, -0.0883,  0.0235],\n",
              "                        [-0.0330,  0.0231, -0.0826]]],\n",
              "              \n",
              "              \n",
              "                      [[[ 0.0131,  0.0862, -0.0012],\n",
              "                        [ 0.0669, -0.0922,  0.0802],\n",
              "                        [ 0.1021, -0.0017,  0.0366]],\n",
              "              \n",
              "                       [[ 0.0501,  0.0594, -0.0638],\n",
              "                        [ 0.0980,  0.0847, -0.0950],\n",
              "                        [-0.0030,  0.0995,  0.0436]],\n",
              "              \n",
              "                       [[-0.0472, -0.0471,  0.0455],\n",
              "                        [-0.0337,  0.0429,  0.0815],\n",
              "                        [ 0.0021, -0.0082,  0.0025]],\n",
              "              \n",
              "                       [[ 0.0224,  0.0387,  0.0820],\n",
              "                        [-0.0045,  0.0165,  0.0649],\n",
              "                        [-0.0727, -0.0056,  0.0199]],\n",
              "              \n",
              "                       [[-0.0507,  0.0219, -0.0815],\n",
              "                        [ 0.0331, -0.0334,  0.0263],\n",
              "                        [ 0.0792,  0.0523, -0.0717]],\n",
              "              \n",
              "                       [[-0.0253,  0.0217, -0.0523],\n",
              "                        [ 0.0049, -0.0547, -0.0586],\n",
              "                        [-0.0315,  0.0124,  0.0449]],\n",
              "              \n",
              "                       [[ 0.0175,  0.0556,  0.0309],\n",
              "                        [ 0.0107,  0.0844,  0.0970],\n",
              "                        [ 0.0767,  0.1036,  0.0062]],\n",
              "              \n",
              "                       [[ 0.0831, -0.0448,  0.0526],\n",
              "                        [ 0.0537,  0.0086, -0.0146],\n",
              "                        [-0.0752,  0.0779,  0.0061]],\n",
              "              \n",
              "                       [[ 0.0187, -0.0924,  0.0784],\n",
              "                        [ 0.0499, -0.0240,  0.0906],\n",
              "                        [-0.0549,  0.0019, -0.0391]],\n",
              "              \n",
              "                       [[-0.0981,  0.0713, -0.0368],\n",
              "                        [ 0.0057, -0.0987, -0.0041],\n",
              "                        [-0.0081, -0.0011,  0.0587]]],\n",
              "              \n",
              "              \n",
              "                      [[[-0.1041, -0.0141, -0.0817],\n",
              "                        [-0.0408, -0.0672,  0.0219],\n",
              "                        [-0.0232,  0.0474, -0.0234]],\n",
              "              \n",
              "                       [[ 0.0799, -0.0029, -0.0092],\n",
              "                        [ 0.0369,  0.0389,  0.0543],\n",
              "                        [-0.0013,  0.0908,  0.0202]],\n",
              "              \n",
              "                       [[ 0.0190, -0.0075, -0.0723],\n",
              "                        [-0.0211, -0.0731,  0.0345],\n",
              "                        [ 0.0003,  0.0240,  0.0313]],\n",
              "              \n",
              "                       [[-0.0138, -0.0134,  0.0619],\n",
              "                        [ 0.0863, -0.0566,  0.0813],\n",
              "                        [-0.0926,  0.0376, -0.1038]],\n",
              "              \n",
              "                       [[-0.0667,  0.0030, -0.0225],\n",
              "                        [-0.0524,  0.1035,  0.0528],\n",
              "                        [ 0.0193,  0.0447, -0.0103]],\n",
              "              \n",
              "                       [[ 0.0986,  0.0179, -0.1015],\n",
              "                        [-0.0180, -0.0941, -0.0189],\n",
              "                        [ 0.1013,  0.0707, -0.0894]],\n",
              "              \n",
              "                       [[ 0.0720, -0.0121, -0.0756],\n",
              "                        [ 0.0905,  0.0131, -0.1026],\n",
              "                        [-0.0107, -0.0192,  0.0889]],\n",
              "              \n",
              "                       [[-0.0843, -0.0156, -0.0664],\n",
              "                        [ 0.0842, -0.0522,  0.0567],\n",
              "                        [ 0.0147, -0.0373, -0.0414]],\n",
              "              \n",
              "                       [[ 0.0776,  0.0990,  0.0055],\n",
              "                        [ 0.0150, -0.0523, -0.0284],\n",
              "                        [-0.0228,  0.0343, -0.1032]],\n",
              "              \n",
              "                       [[-0.0233,  0.0583,  0.0253],\n",
              "                        [ 0.0003,  0.1051,  0.0377],\n",
              "                        [ 0.0695, -0.0615,  0.0491]]]])),\n",
              "             ('conv_block_1.2.bias',\n",
              "              tensor([ 0.0990, -0.0951, -0.0842, -0.0154,  0.0794, -0.0935, -0.0271, -0.0004,\n",
              "                       0.0316,  0.0643])),\n",
              "             ('conv_block_2.0.weight',\n",
              "              tensor([[[[ 7.6938e-02,  3.6297e-02,  2.0328e-02],\n",
              "                        [ 3.1762e-02,  4.3824e-02, -3.1252e-02],\n",
              "                        [-9.3286e-03, -5.2842e-02,  8.0037e-02]],\n",
              "              \n",
              "                       [[-1.7535e-02, -6.7960e-02, -3.8016e-02],\n",
              "                        [-3.5187e-02,  1.9263e-02,  8.9351e-02],\n",
              "                        [-5.0918e-02, -7.6232e-02, -6.6240e-02]],\n",
              "              \n",
              "                       [[-9.3260e-02, -7.0034e-02, -1.0273e-01],\n",
              "                        [ 9.4235e-02, -2.1227e-02,  7.5143e-02],\n",
              "                        [-4.4970e-02,  5.8916e-02,  5.1017e-02]],\n",
              "              \n",
              "                       [[ 5.9953e-02,  5.4591e-02,  7.6516e-02],\n",
              "                        [ 9.1545e-02,  9.9870e-02,  3.4811e-02],\n",
              "                        [ 9.8993e-02, -1.2674e-02,  2.2445e-02]],\n",
              "              \n",
              "                       [[ 2.2116e-02,  6.6943e-02,  6.8479e-02],\n",
              "                        [-2.2673e-02,  3.7418e-02,  8.2898e-02],\n",
              "                        [-8.9585e-02, -6.5015e-02,  4.9410e-02]],\n",
              "              \n",
              "                       [[-2.2731e-03, -9.9264e-02, -3.7888e-02],\n",
              "                        [ 6.5540e-02,  8.9767e-02,  3.7220e-02],\n",
              "                        [-1.2951e-02, -8.8365e-02,  7.5868e-02]],\n",
              "              \n",
              "                       [[ 9.6721e-02,  4.9125e-02,  5.1676e-02],\n",
              "                        [-2.2653e-02,  6.5386e-02, -8.9882e-02],\n",
              "                        [-6.3005e-02,  8.0712e-02,  8.7345e-03]],\n",
              "              \n",
              "                       [[ 9.0633e-03, -1.0401e-01, -1.0114e-01],\n",
              "                        [-9.0013e-02,  8.3226e-02, -7.7197e-02],\n",
              "                        [-7.3018e-02, -4.2008e-03, -3.5451e-03]],\n",
              "              \n",
              "                       [[ 2.1861e-02,  1.3743e-02, -6.3043e-02],\n",
              "                        [ 7.0985e-02, -1.9792e-02,  7.9702e-03],\n",
              "                        [-8.3893e-02, -1.9090e-02, -3.1369e-02]],\n",
              "              \n",
              "                       [[ 2.9036e-02,  2.6648e-02, -5.5281e-02],\n",
              "                        [ 1.2190e-02,  8.7514e-02,  4.9799e-02],\n",
              "                        [ 1.0309e-01, -9.5947e-02, -4.4762e-02]]],\n",
              "              \n",
              "              \n",
              "                      [[[-2.7048e-02, -4.3925e-02, -7.3230e-02],\n",
              "                        [-9.8497e-02, -5.1336e-02,  1.8079e-02],\n",
              "                        [ 2.7974e-02,  9.2023e-02,  1.0363e-01]],\n",
              "              \n",
              "                       [[ 2.0882e-02,  8.0903e-02, -3.3216e-02],\n",
              "                        [ 2.5844e-02, -5.9579e-02, -9.0613e-02],\n",
              "                        [-6.8057e-02, -8.3956e-02,  8.0258e-04]],\n",
              "              \n",
              "                       [[ 2.6233e-02, -1.0245e-01, -6.9337e-02],\n",
              "                        [ 1.4674e-02,  5.3190e-02, -1.0029e-02],\n",
              "                        [-6.1494e-02,  6.4259e-02, -2.8170e-02]],\n",
              "              \n",
              "                       [[-1.3319e-02, -7.4205e-02,  3.7815e-02],\n",
              "                        [-5.7711e-02,  8.0125e-02, -4.8096e-02],\n",
              "                        [-5.8564e-02, -1.8315e-02,  3.9523e-02]],\n",
              "              \n",
              "                       [[ 8.8715e-02, -7.4691e-03,  2.6475e-02],\n",
              "                        [ 9.6608e-02, -2.6018e-03,  1.3877e-02],\n",
              "                        [-1.3998e-02,  4.7151e-02,  8.4900e-02]],\n",
              "              \n",
              "                       [[-5.4829e-02,  6.1162e-02,  9.7968e-03],\n",
              "                        [-5.6762e-02,  7.2791e-02, -6.4938e-02],\n",
              "                        [ 8.0409e-03,  8.3881e-03,  2.5701e-02]],\n",
              "              \n",
              "                       [[ 9.1475e-02,  8.3825e-02, -7.5834e-02],\n",
              "                        [ 5.9532e-02,  8.3954e-02, -9.9810e-02],\n",
              "                        [ 3.6631e-03, -8.3705e-02, -5.1431e-02]],\n",
              "              \n",
              "                       [[-6.5010e-02, -8.2609e-03,  8.2632e-02],\n",
              "                        [ 3.8902e-02,  8.5737e-02, -8.4615e-02],\n",
              "                        [ 1.9817e-02,  8.2610e-02, -8.6853e-02]],\n",
              "              \n",
              "                       [[ 8.6650e-02, -5.2869e-03,  4.3075e-02],\n",
              "                        [-3.2497e-02,  3.9305e-02, -6.2343e-02],\n",
              "                        [-3.9887e-02,  4.3483e-02,  3.6638e-02]],\n",
              "              \n",
              "                       [[-1.7563e-03, -5.6709e-02, -4.4950e-02],\n",
              "                        [ 6.8733e-02,  6.8251e-02, -7.5452e-02],\n",
              "                        [-3.9249e-02,  6.4908e-02,  7.9689e-02]]],\n",
              "              \n",
              "              \n",
              "                      [[[-8.6492e-03, -7.4882e-02,  5.2442e-02],\n",
              "                        [ 7.3710e-02,  5.7594e-02, -5.4533e-02],\n",
              "                        [-4.3989e-02, -8.6006e-02,  7.1635e-02]],\n",
              "              \n",
              "                       [[-9.9787e-02,  2.9322e-02,  7.8998e-02],\n",
              "                        [-6.8349e-02, -3.2858e-02, -4.5515e-02],\n",
              "                        [-8.3939e-03,  8.5664e-02,  2.9041e-02]],\n",
              "              \n",
              "                       [[ 1.2420e-03, -8.8406e-04, -2.2551e-02],\n",
              "                        [ 4.8107e-02, -8.3841e-02,  1.0501e-01],\n",
              "                        [ 3.1085e-02,  8.5745e-02,  2.7310e-02]],\n",
              "              \n",
              "                       [[-1.6489e-02,  1.4907e-04, -7.1634e-02],\n",
              "                        [ 3.6366e-02,  8.7553e-04, -9.4914e-02],\n",
              "                        [ 1.0313e-01, -5.7128e-02,  6.0633e-02]],\n",
              "              \n",
              "                       [[ 2.5796e-02, -9.6055e-02,  7.1266e-02],\n",
              "                        [ 5.1586e-02,  3.6950e-02, -6.4751e-02],\n",
              "                        [ 4.3406e-02,  3.7208e-02, -7.8942e-02]],\n",
              "              \n",
              "                       [[ 2.4464e-02,  4.6632e-02, -9.4120e-02],\n",
              "                        [ 1.3859e-02, -9.4808e-03, -9.1392e-02],\n",
              "                        [-5.6340e-02, -3.9820e-02,  6.8317e-02]],\n",
              "              \n",
              "                       [[-4.2534e-02,  6.3468e-02, -3.9832e-02],\n",
              "                        [ 5.8308e-02, -6.7214e-02,  7.8185e-02],\n",
              "                        [-6.1416e-02,  5.3311e-03,  1.8977e-02]],\n",
              "              \n",
              "                       [[-3.4896e-02,  4.6467e-02,  5.1117e-03],\n",
              "                        [-9.4943e-02, -5.3352e-02,  3.4780e-02],\n",
              "                        [ 4.4438e-02,  1.6342e-02,  7.5153e-02]],\n",
              "              \n",
              "                       [[-4.6915e-02,  8.4996e-02,  6.4346e-02],\n",
              "                        [ 8.4771e-02,  4.1431e-03, -5.8097e-02],\n",
              "                        [ 6.7000e-02, -7.0721e-02, -7.6078e-02]],\n",
              "              \n",
              "                       [[ 5.1717e-02,  6.1142e-02, -2.2928e-02],\n",
              "                        [ 7.4780e-03,  1.0307e-01, -4.9042e-02],\n",
              "                        [ 7.6042e-02, -8.2906e-02, -3.1957e-02]]],\n",
              "              \n",
              "              \n",
              "                      [[[-9.2893e-02,  2.6996e-02,  2.8763e-02],\n",
              "                        [ 7.4055e-02, -5.0715e-02, -8.8061e-02],\n",
              "                        [-3.3453e-02,  3.1343e-02, -3.1525e-02]],\n",
              "              \n",
              "                       [[ 4.9338e-02,  6.3014e-02,  5.4538e-02],\n",
              "                        [-6.5063e-02,  1.6334e-02,  6.5423e-02],\n",
              "                        [ 3.2317e-02, -1.2105e-02, -1.0115e-01]],\n",
              "              \n",
              "                       [[-6.4787e-02, -6.5906e-02, -4.2755e-02],\n",
              "                        [ 3.1225e-02,  4.7469e-02, -1.0540e-01],\n",
              "                        [ 2.5226e-02, -1.0107e-01, -6.1954e-02]],\n",
              "              \n",
              "                       [[ 8.7998e-02, -9.0735e-02, -3.3838e-02],\n",
              "                        [-8.5498e-02, -6.5900e-03,  6.5154e-02],\n",
              "                        [-6.2666e-02, -5.1424e-02, -6.2576e-02]],\n",
              "              \n",
              "                       [[ 4.5346e-02, -8.5504e-02,  3.8830e-02],\n",
              "                        [ 4.9964e-02,  1.9415e-02,  3.4652e-02],\n",
              "                        [ 9.8751e-03, -3.3775e-03,  9.7945e-02]],\n",
              "              \n",
              "                       [[-6.3964e-02,  4.4692e-02, -1.0480e-01],\n",
              "                        [-1.0406e-01,  6.5434e-02, -7.0489e-02],\n",
              "                        [-9.6648e-02, -2.8616e-02, -7.5560e-02]],\n",
              "              \n",
              "                       [[-1.9967e-02, -3.2963e-02,  4.1292e-02],\n",
              "                        [-5.4360e-02,  6.6051e-02, -1.9112e-02],\n",
              "                        [-6.2043e-02,  7.9244e-03,  8.9130e-02]],\n",
              "              \n",
              "                       [[-6.5614e-02,  3.6666e-03, -7.0518e-02],\n",
              "                        [ 9.6692e-02,  5.7587e-02,  9.0129e-02],\n",
              "                        [-4.0466e-02, -5.1171e-02, -5.0293e-02]],\n",
              "              \n",
              "                       [[ 8.3378e-02, -6.6675e-02, -7.4563e-02],\n",
              "                        [-4.4502e-02,  4.1793e-02,  4.2326e-02],\n",
              "                        [-5.6107e-02,  6.7646e-02,  6.9843e-02]],\n",
              "              \n",
              "                       [[-5.1779e-02,  4.9682e-02,  4.1380e-02],\n",
              "                        [ 5.6906e-02,  8.8767e-02, -4.8460e-03],\n",
              "                        [-4.7223e-02, -8.1886e-02,  6.2722e-02]]],\n",
              "              \n",
              "              \n",
              "                      [[[-4.6530e-02, -1.1779e-02, -5.0931e-02],\n",
              "                        [-1.1630e-03,  3.3366e-02,  7.4280e-04],\n",
              "                        [-3.0339e-03,  7.4034e-02, -1.9851e-02]],\n",
              "              \n",
              "                       [[ 5.3151e-02,  4.5987e-02, -6.2617e-02],\n",
              "                        [ 1.5967e-02,  4.0204e-03,  2.9886e-02],\n",
              "                        [ 5.7874e-02,  4.3490e-02, -5.6913e-02]],\n",
              "              \n",
              "                       [[ 7.2593e-02, -8.9750e-03, -4.2409e-02],\n",
              "                        [-8.0507e-02,  1.0089e-01,  2.2875e-02],\n",
              "                        [ 9.7789e-02,  1.0134e-01, -7.5849e-02]],\n",
              "              \n",
              "                       [[-8.9594e-02, -1.8260e-02,  6.7694e-02],\n",
              "                        [-6.5934e-02, -4.5028e-02, -8.7586e-02],\n",
              "                        [-3.7749e-02,  6.0567e-03,  9.2405e-02]],\n",
              "              \n",
              "                       [[-7.9015e-02, -2.7399e-02, -1.0402e-01],\n",
              "                        [ 7.7761e-02,  5.6055e-02,  9.8567e-02],\n",
              "                        [-3.8832e-02, -2.3035e-03, -2.6208e-03]],\n",
              "              \n",
              "                       [[-6.5054e-03, -5.8110e-02, -6.3900e-02],\n",
              "                        [-5.3215e-02, -6.0179e-02, -1.3928e-02],\n",
              "                        [ 7.6044e-02,  6.2095e-02, -2.4144e-02]],\n",
              "              \n",
              "                       [[ 7.3051e-02, -4.7614e-02,  7.0240e-02],\n",
              "                        [ 2.1861e-02, -2.6199e-02, -9.6294e-02],\n",
              "                        [ 1.2304e-02,  6.1871e-02,  8.1962e-02]],\n",
              "              \n",
              "                       [[-7.7709e-02, -9.5072e-02, -1.8252e-02],\n",
              "                        [-4.7752e-02, -4.3713e-02, -1.0175e-01],\n",
              "                        [ 8.1545e-02, -9.1063e-02, -2.9821e-02]],\n",
              "              \n",
              "                       [[ 1.1600e-02,  1.3420e-03,  9.2210e-02],\n",
              "                        [-3.9493e-02,  9.0064e-02,  4.3969e-02],\n",
              "                        [ 1.5030e-02,  6.1859e-04, -7.5901e-02]],\n",
              "              \n",
              "                       [[ 6.5496e-03, -1.0296e-01,  2.6831e-02],\n",
              "                        [-3.1475e-02, -1.7782e-02, -4.3424e-02],\n",
              "                        [ 8.2589e-02, -2.1808e-02,  1.0705e-02]]],\n",
              "              \n",
              "              \n",
              "                      [[[ 8.4127e-02, -4.8553e-02,  9.5293e-02],\n",
              "                        [-7.1022e-02, -3.4797e-02, -6.8102e-02],\n",
              "                        [-5.3186e-02,  2.0936e-02,  4.6817e-02]],\n",
              "              \n",
              "                       [[-1.2311e-02, -9.0877e-02, -1.0396e-01],\n",
              "                        [ 3.4911e-02,  1.2163e-02,  8.0794e-02],\n",
              "                        [ 6.3433e-02,  1.5871e-02,  5.1245e-02]],\n",
              "              \n",
              "                       [[ 7.3685e-03, -8.0829e-02, -1.0210e-01],\n",
              "                        [-9.1224e-02,  7.5339e-02,  8.7046e-02],\n",
              "                        [-4.3436e-02,  4.7165e-02,  7.8824e-02]],\n",
              "              \n",
              "                       [[-1.4876e-02, -3.2334e-02,  4.3377e-02],\n",
              "                        [-7.7216e-02, -8.7026e-02,  4.9483e-02],\n",
              "                        [ 7.7525e-02,  7.0583e-04, -5.2985e-02]],\n",
              "              \n",
              "                       [[ 3.9482e-03, -2.5346e-03,  8.1519e-02],\n",
              "                        [-4.0679e-03,  7.7143e-02,  8.6492e-03],\n",
              "                        [ 4.6546e-02, -3.2544e-02, -7.0251e-02]],\n",
              "              \n",
              "                       [[ 9.6804e-02,  9.0213e-02,  6.0738e-03],\n",
              "                        [ 1.2692e-02, -6.6232e-02,  2.1964e-02],\n",
              "                        [-4.3115e-02,  2.5157e-02, -5.5339e-02]],\n",
              "              \n",
              "                       [[-9.3364e-03,  5.5774e-02,  5.3801e-02],\n",
              "                        [ 1.1093e-02,  6.0654e-02,  4.7029e-02],\n",
              "                        [ 1.2078e-02, -7.8528e-02,  8.6844e-02]],\n",
              "              \n",
              "                       [[-4.2727e-02,  7.8149e-02, -9.6880e-02],\n",
              "                        [ 7.6165e-02,  5.0814e-02, -3.2618e-03],\n",
              "                        [ 7.7835e-02, -2.6499e-02,  6.5015e-02]],\n",
              "              \n",
              "                       [[-3.4580e-02,  7.2498e-02,  4.4349e-02],\n",
              "                        [ 5.2907e-02, -7.9037e-02,  2.6401e-02],\n",
              "                        [ 5.0536e-02, -8.8708e-03, -6.2961e-02]],\n",
              "              \n",
              "                       [[-6.0546e-02, -8.7606e-02,  4.0800e-02],\n",
              "                        [-7.0450e-02,  7.3161e-02, -2.7122e-02],\n",
              "                        [-5.8044e-02, -9.4269e-02,  7.2872e-02]]],\n",
              "              \n",
              "              \n",
              "                      [[[-7.3632e-02, -2.0999e-03, -6.2122e-02],\n",
              "                        [ 9.5893e-02, -8.2320e-02, -3.9689e-02],\n",
              "                        [ 8.9221e-02, -5.3270e-02,  7.6275e-02]],\n",
              "              \n",
              "                       [[ 3.8182e-02,  4.8033e-02,  9.8388e-02],\n",
              "                        [ 5.7367e-02, -8.8854e-02, -7.7714e-02],\n",
              "                        [ 4.6098e-02, -9.7125e-02,  4.9504e-02]],\n",
              "              \n",
              "                       [[-6.3652e-02,  6.8275e-02,  9.2808e-02],\n",
              "                        [-4.8711e-02, -4.9836e-02, -5.1963e-02],\n",
              "                        [ 9.7297e-02, -9.7192e-02,  3.2356e-02]],\n",
              "              \n",
              "                       [[-5.2373e-02,  1.0389e-01, -2.4882e-02],\n",
              "                        [ 8.7005e-02, -9.8926e-02,  7.1907e-02],\n",
              "                        [ 7.4128e-02, -5.2064e-02, -9.0405e-03]],\n",
              "              \n",
              "                       [[ 4.6788e-02,  5.7020e-03, -1.0174e-01],\n",
              "                        [-2.9681e-02,  9.6727e-02,  5.8487e-02],\n",
              "                        [-5.1509e-02,  6.1110e-02, -5.4702e-02]],\n",
              "              \n",
              "                       [[ 1.0063e-01,  8.4931e-02,  4.9625e-02],\n",
              "                        [-4.4986e-02,  1.7123e-02, -2.8939e-02],\n",
              "                        [-4.0591e-02,  7.3327e-02, -4.0370e-02]],\n",
              "              \n",
              "                       [[ 8.4233e-02,  1.0485e-01, -7.5245e-02],\n",
              "                        [ 8.8675e-02, -1.0533e-01,  1.1965e-02],\n",
              "                        [ 1.6028e-03,  1.9017e-02, -6.0223e-02]],\n",
              "              \n",
              "                       [[-3.1078e-02,  3.2782e-02, -4.2561e-02],\n",
              "                        [ 5.2881e-02,  1.7771e-02, -3.9835e-02],\n",
              "                        [-9.2254e-03,  2.1817e-02,  7.8300e-03]],\n",
              "              \n",
              "                       [[ 1.5069e-02,  5.9949e-02, -9.1193e-02],\n",
              "                        [ 1.0328e-01,  6.9712e-03, -8.9648e-04],\n",
              "                        [ 3.2016e-02, -4.7896e-02,  3.3174e-02]],\n",
              "              \n",
              "                       [[ 6.2479e-02, -9.8063e-02, -6.8011e-02],\n",
              "                        [ 2.3188e-02, -9.2904e-02,  4.4670e-02],\n",
              "                        [ 6.4327e-02,  7.3969e-02, -8.9270e-02]]],\n",
              "              \n",
              "              \n",
              "                      [[[-8.1486e-02,  7.8964e-02,  3.0452e-02],\n",
              "                        [ 8.9546e-02, -7.4615e-05,  3.3264e-02],\n",
              "                        [ 8.5254e-02,  6.1974e-02,  7.4042e-02]],\n",
              "              \n",
              "                       [[-2.5179e-02,  2.8889e-02, -6.8209e-02],\n",
              "                        [-6.9782e-02,  9.3295e-02, -4.7046e-03],\n",
              "                        [-9.6308e-02,  4.1942e-02,  7.8975e-02]],\n",
              "              \n",
              "                       [[-8.4346e-03,  4.1462e-02,  9.3437e-02],\n",
              "                        [ 3.8190e-02,  9.3991e-02, -7.7538e-02],\n",
              "                        [ 1.0053e-01, -9.6675e-02, -4.0315e-02]],\n",
              "              \n",
              "                       [[ 5.8590e-02, -8.5718e-02, -7.1628e-02],\n",
              "                        [-4.6218e-02, -2.8043e-02, -6.0288e-02],\n",
              "                        [-6.5096e-02, -9.8933e-02, -1.2958e-02]],\n",
              "              \n",
              "                       [[ 4.0492e-02,  7.2402e-02, -8.9760e-02],\n",
              "                        [ 2.7632e-02,  2.1000e-02,  8.6227e-02],\n",
              "                        [ 1.9893e-02, -4.3868e-02, -1.8282e-02]],\n",
              "              \n",
              "                       [[ 9.9584e-02, -4.7839e-02,  3.0681e-02],\n",
              "                        [-2.8276e-02,  6.7557e-02, -8.8633e-02],\n",
              "                        [-5.0130e-03, -6.8537e-02,  7.8226e-02]],\n",
              "              \n",
              "                       [[-2.4760e-02, -1.5476e-02, -6.0726e-02],\n",
              "                        [ 9.2177e-03, -6.1570e-02, -8.2530e-02],\n",
              "                        [ 8.4774e-02, -9.2121e-02, -3.7638e-02]],\n",
              "              \n",
              "                       [[-4.1105e-02, -3.5065e-02, -5.7173e-02],\n",
              "                        [ 6.9989e-02, -9.8969e-04, -8.4503e-02],\n",
              "                        [-2.8779e-02, -8.1979e-03, -5.4236e-03]],\n",
              "              \n",
              "                       [[-6.5141e-02, -8.1682e-02,  8.9046e-02],\n",
              "                        [-1.6150e-02,  5.2539e-02,  5.6694e-02],\n",
              "                        [ 7.2174e-02,  4.8866e-02, -1.5407e-02]],\n",
              "              \n",
              "                       [[ 1.1503e-02,  5.0369e-02, -3.9892e-03],\n",
              "                        [-9.4241e-02,  4.0267e-03,  3.1300e-02],\n",
              "                        [-3.3432e-02, -9.1069e-02,  7.3339e-02]]],\n",
              "              \n",
              "              \n",
              "                      [[[ 7.7860e-02, -7.9365e-02, -4.7421e-03],\n",
              "                        [-5.2021e-02,  7.7604e-02, -1.0176e-01],\n",
              "                        [-4.3247e-02, -1.0187e-02,  7.0705e-02]],\n",
              "              \n",
              "                       [[ 9.9703e-02,  4.2659e-02,  2.8076e-03],\n",
              "                        [ 3.8056e-02,  8.3162e-02,  7.7369e-02],\n",
              "                        [ 7.1084e-02, -5.0105e-02,  5.5713e-02]],\n",
              "              \n",
              "                       [[ 7.2136e-02,  2.9818e-02, -1.0272e-01],\n",
              "                        [ 5.6518e-02,  2.5316e-02,  5.6288e-02],\n",
              "                        [-7.8998e-02,  4.4166e-02,  7.6889e-02]],\n",
              "              \n",
              "                       [[-4.5551e-02, -3.6959e-02,  1.8679e-02],\n",
              "                        [ 3.1564e-02,  4.2662e-02,  5.1678e-02],\n",
              "                        [-9.0441e-02,  9.4462e-02,  9.2578e-02]],\n",
              "              \n",
              "                       [[-8.4203e-02,  2.2203e-02, -8.4239e-02],\n",
              "                        [ 8.2402e-02, -2.8068e-02, -2.9480e-02],\n",
              "                        [-8.5310e-03, -5.3340e-02,  8.1262e-02]],\n",
              "              \n",
              "                       [[ 5.7726e-02, -2.6720e-02,  8.4821e-02],\n",
              "                        [ 3.7091e-02,  9.8802e-02, -2.7211e-02],\n",
              "                        [ 9.6407e-03,  8.9303e-02,  3.8591e-02]],\n",
              "              \n",
              "                       [[-3.5862e-02, -9.4428e-02,  2.6290e-02],\n",
              "                        [ 1.2475e-02, -3.4856e-02, -1.6191e-02],\n",
              "                        [ 7.1584e-02, -6.5518e-02,  6.3829e-02]],\n",
              "              \n",
              "                       [[ 7.2506e-02,  6.7806e-02, -9.9840e-02],\n",
              "                        [ 7.3978e-02, -5.4835e-02, -7.6933e-02],\n",
              "                        [-7.2477e-02, -8.3662e-02, -1.5758e-02]],\n",
              "              \n",
              "                       [[-5.2591e-02,  5.2975e-02,  8.4085e-02],\n",
              "                        [ 6.2616e-02, -5.8483e-02, -6.0582e-02],\n",
              "                        [ 9.6155e-02, -4.8609e-02, -2.0945e-02]],\n",
              "              \n",
              "                       [[-3.7481e-03,  9.9537e-02, -4.5370e-02],\n",
              "                        [ 8.7361e-02, -2.3632e-02, -9.2670e-02],\n",
              "                        [-3.3017e-02,  6.3320e-02,  6.6073e-02]]],\n",
              "              \n",
              "              \n",
              "                      [[[-2.6674e-02, -1.4534e-02,  7.2993e-02],\n",
              "                        [-2.1741e-02,  4.8479e-02,  9.5417e-02],\n",
              "                        [ 4.6498e-02,  5.2032e-04, -1.2348e-02]],\n",
              "              \n",
              "                       [[-8.9890e-02, -7.7536e-02, -8.4062e-02],\n",
              "                        [-7.5993e-02,  4.4619e-02, -7.1522e-02],\n",
              "                        [-4.4968e-02,  9.3976e-02,  9.1073e-02]],\n",
              "              \n",
              "                       [[ 6.6699e-02, -3.9366e-02,  2.9869e-02],\n",
              "                        [-5.8659e-02,  1.2168e-02,  8.8084e-02],\n",
              "                        [ 6.9270e-02, -3.7438e-02,  9.2947e-02]],\n",
              "              \n",
              "                       [[-1.0494e-03, -4.7837e-02,  4.7713e-03],\n",
              "                        [-4.1279e-02, -7.8642e-02,  3.8980e-03],\n",
              "                        [-8.7949e-02, -9.8761e-02,  7.7723e-03]],\n",
              "              \n",
              "                       [[ 7.3104e-02,  4.3201e-02,  5.3599e-02],\n",
              "                        [-8.9620e-02,  2.9361e-02, -3.2163e-02],\n",
              "                        [-9.4060e-02, -3.7239e-02, -2.5067e-02]],\n",
              "              \n",
              "                       [[ 2.6945e-02,  6.2121e-02, -6.0771e-02],\n",
              "                        [-3.7945e-02,  5.4811e-02,  3.5584e-03],\n",
              "                        [ 8.2478e-02, -8.1463e-02, -8.1812e-02]],\n",
              "              \n",
              "                       [[-8.1348e-02, -1.6249e-02, -3.6421e-02],\n",
              "                        [-6.4924e-02,  3.3678e-02,  4.0322e-02],\n",
              "                        [ 6.2212e-02, -9.2695e-02, -4.7858e-02]],\n",
              "              \n",
              "                       [[ 8.3921e-02, -6.6022e-02,  9.9839e-02],\n",
              "                        [ 3.2931e-02,  3.5774e-02, -6.3648e-02],\n",
              "                        [-4.9621e-03, -5.6636e-02,  8.8145e-02]],\n",
              "              \n",
              "                       [[ 2.6941e-02,  6.6809e-02, -4.9800e-02],\n",
              "                        [ 8.6648e-02,  3.4268e-02, -3.2004e-02],\n",
              "                        [-2.2176e-02, -2.8995e-02, -8.8033e-02]],\n",
              "              \n",
              "                       [[ 1.7971e-02, -2.9412e-02, -8.7981e-02],\n",
              "                        [ 9.6710e-02,  4.5643e-02,  9.8010e-02],\n",
              "                        [ 7.6548e-02,  5.7236e-02, -5.3755e-03]]]])),\n",
              "             ('conv_block_2.0.bias',\n",
              "              tensor([ 0.0950,  0.0187, -0.0879,  0.0357, -0.0771,  0.0649, -0.0337, -0.0130,\n",
              "                       0.0199,  0.1054])),\n",
              "             ('conv_block_2.2.weight',\n",
              "              tensor([[[[ 2.8269e-02, -4.9014e-02,  9.6186e-02],\n",
              "                        [-7.9518e-02,  8.7409e-02, -3.5103e-02],\n",
              "                        [ 4.0335e-03, -1.7034e-02,  3.5241e-02]],\n",
              "              \n",
              "                       [[-5.9533e-02, -3.7510e-02,  5.4537e-02],\n",
              "                        [ 7.6401e-02,  9.3615e-02,  6.7797e-03],\n",
              "                        [-6.9181e-02,  7.7149e-02, -3.7753e-03]],\n",
              "              \n",
              "                       [[-1.0147e-02, -1.0350e-01,  1.5942e-02],\n",
              "                        [-6.4908e-03, -7.6694e-02,  7.4755e-02],\n",
              "                        [ 2.4278e-03,  3.1372e-02, -4.1702e-02]],\n",
              "              \n",
              "                       [[ 5.4975e-02, -3.0809e-02,  3.9940e-04],\n",
              "                        [-7.8908e-02, -1.9936e-02, -4.8051e-02],\n",
              "                        [-2.7355e-02, -3.9811e-02,  6.6772e-02]],\n",
              "              \n",
              "                       [[-6.7013e-03,  8.9836e-02, -5.6948e-02],\n",
              "                        [-8.2637e-02,  8.1936e-03, -2.1069e-02],\n",
              "                        [-1.0459e-01,  3.6839e-02, -3.1460e-02]],\n",
              "              \n",
              "                       [[-1.0480e-01, -3.0605e-02,  5.6751e-02],\n",
              "                        [-2.2537e-02,  9.1048e-02,  5.6446e-02],\n",
              "                        [ 6.0777e-03,  7.0363e-02,  7.9382e-02]],\n",
              "              \n",
              "                       [[ 1.0887e-02, -5.6018e-02,  1.7490e-02],\n",
              "                        [ 9.5871e-02,  9.2810e-02,  1.0193e-01],\n",
              "                        [ 2.9013e-02,  1.1698e-02, -2.1736e-02]],\n",
              "              \n",
              "                       [[ 7.6378e-02, -1.0055e-01,  5.7584e-02],\n",
              "                        [-5.3317e-02, -2.5214e-02, -9.1218e-02],\n",
              "                        [-5.0210e-02,  8.9787e-03, -2.2807e-02]],\n",
              "              \n",
              "                       [[ 9.6708e-02, -4.1975e-02,  3.7171e-02],\n",
              "                        [ 9.5769e-02, -4.8109e-02, -1.2821e-02],\n",
              "                        [-5.3969e-02, -6.4326e-02,  2.0623e-02]],\n",
              "              \n",
              "                       [[ 5.1346e-04,  3.2533e-03, -7.8330e-02],\n",
              "                        [ 6.6052e-02,  8.9821e-02,  8.8175e-02],\n",
              "                        [ 2.6641e-02, -4.8082e-02,  1.3431e-02]]],\n",
              "              \n",
              "              \n",
              "                      [[[-2.2653e-02,  5.1446e-02,  6.5834e-02],\n",
              "                        [ 4.7179e-02,  8.8165e-03,  1.7026e-02],\n",
              "                        [ 3.6022e-02,  8.8080e-02,  1.3736e-02]],\n",
              "              \n",
              "                       [[-3.9692e-02, -6.0637e-02, -1.5273e-02],\n",
              "                        [-1.0413e-01, -3.2141e-02,  8.0044e-02],\n",
              "                        [-3.1517e-02,  7.1258e-02,  7.1256e-02]],\n",
              "              \n",
              "                       [[-1.8289e-02,  9.5208e-02,  8.8656e-03],\n",
              "                        [ 5.9637e-02, -3.2827e-02,  2.0303e-02],\n",
              "                        [-8.0895e-02, -5.5519e-02,  4.4037e-02]],\n",
              "              \n",
              "                       [[-4.0653e-02,  2.9389e-02, -6.4818e-02],\n",
              "                        [-6.3427e-02, -7.6276e-02,  9.9409e-02],\n",
              "                        [-7.7611e-03,  5.0049e-02, -1.0325e-01]],\n",
              "              \n",
              "                       [[-2.1521e-02, -8.1732e-02,  1.0527e-01],\n",
              "                        [-2.0667e-02,  8.4875e-02, -4.3588e-02],\n",
              "                        [ 8.2684e-02,  1.8748e-02,  1.0105e-01]],\n",
              "              \n",
              "                       [[ 1.0020e-01, -2.4839e-02, -7.6896e-02],\n",
              "                        [ 3.2147e-03,  8.1409e-02, -6.9108e-02],\n",
              "                        [-8.2901e-02, -8.7997e-02,  5.2259e-02]],\n",
              "              \n",
              "                       [[ 5.3503e-02, -8.4547e-02, -4.2725e-02],\n",
              "                        [-1.0280e-01, -9.7062e-02,  1.0441e-01],\n",
              "                        [-7.2102e-02, -6.3947e-02, -9.5161e-02]],\n",
              "              \n",
              "                       [[-1.0054e-01,  2.9507e-03, -7.5923e-02],\n",
              "                        [ 1.5771e-02,  1.0039e-01, -1.1132e-02],\n",
              "                        [-3.1492e-02,  9.6447e-02,  1.0808e-02]],\n",
              "              \n",
              "                       [[ 1.9191e-02, -4.3261e-02, -8.9505e-02],\n",
              "                        [ 3.3394e-02, -6.0391e-02, -1.0260e-01],\n",
              "                        [-3.9584e-03, -9.5961e-02, -8.8976e-02]],\n",
              "              \n",
              "                       [[ 2.6990e-02,  2.4899e-02,  4.1467e-02],\n",
              "                        [-9.7782e-02,  6.2076e-03, -7.2443e-03],\n",
              "                        [ 4.7586e-02, -1.0401e-01, -6.2717e-02]]],\n",
              "              \n",
              "              \n",
              "                      [[[ 5.0864e-02, -7.5714e-02,  4.5900e-02],\n",
              "                        [ 5.1048e-02, -5.3197e-02, -7.3102e-03],\n",
              "                        [-9.6882e-02, -1.5035e-02,  3.3881e-02]],\n",
              "              \n",
              "                       [[-1.0185e-01,  6.6544e-02, -3.5995e-02],\n",
              "                        [ 5.8871e-02,  3.9053e-02,  9.4347e-02],\n",
              "                        [-9.4078e-02, -8.0493e-02,  4.5211e-02]],\n",
              "              \n",
              "                       [[ 7.6353e-02,  9.3070e-02, -2.5756e-02],\n",
              "                        [-4.1017e-02, -1.2807e-02, -1.1297e-02],\n",
              "                        [-5.9666e-02,  5.1519e-02, -1.1539e-02]],\n",
              "              \n",
              "                       [[ 9.2735e-02, -8.9386e-02,  1.0317e-01],\n",
              "                        [ 2.3804e-02,  9.4967e-02,  8.4829e-02],\n",
              "                        [ 3.7460e-02,  8.5463e-02,  2.4942e-02]],\n",
              "              \n",
              "                       [[-3.8750e-02, -5.1265e-02,  1.0094e-01],\n",
              "                        [ 5.0711e-02, -2.2973e-02,  3.8845e-02],\n",
              "                        [ 7.6201e-02,  5.5180e-02, -8.2890e-02]],\n",
              "              \n",
              "                       [[-6.9611e-02, -1.8056e-02,  2.1353e-02],\n",
              "                        [-4.2160e-03, -7.9197e-02,  4.4980e-02],\n",
              "                        [ 8.5588e-02,  2.7842e-03, -2.4791e-02]],\n",
              "              \n",
              "                       [[ 4.0251e-02,  9.6933e-02, -5.7375e-02],\n",
              "                        [-2.2979e-02,  3.0389e-03, -1.0166e-01],\n",
              "                        [-4.8704e-02, -5.6547e-02, -4.0380e-02]],\n",
              "              \n",
              "                       [[ 2.0531e-02, -5.0183e-02,  9.8793e-02],\n",
              "                        [ 8.4305e-02, -9.8661e-02,  7.0062e-02],\n",
              "                        [ 3.8906e-02, -9.3745e-02, -3.7829e-02]],\n",
              "              \n",
              "                       [[-7.4135e-02,  7.9991e-02, -7.1796e-02],\n",
              "                        [ 2.5620e-03, -6.7023e-02, -9.6647e-03],\n",
              "                        [ 2.2572e-02, -6.0292e-02, -3.2047e-02]],\n",
              "              \n",
              "                       [[ 5.5848e-02,  8.4434e-02, -9.1325e-02],\n",
              "                        [-4.4676e-02,  8.9857e-02,  4.8950e-02],\n",
              "                        [ 7.2744e-02,  3.4713e-02,  9.1674e-02]]],\n",
              "              \n",
              "              \n",
              "                      [[[ 4.3718e-02, -7.4340e-02,  4.8628e-03],\n",
              "                        [-1.4540e-02, -9.2236e-02,  7.4107e-02],\n",
              "                        [-8.6111e-02, -8.0738e-03, -3.8541e-02]],\n",
              "              \n",
              "                       [[-1.5828e-02, -3.8984e-02, -2.8781e-02],\n",
              "                        [-9.2225e-02, -8.7206e-02, -9.9737e-02],\n",
              "                        [ 2.4603e-02,  1.5705e-02,  6.3355e-02]],\n",
              "              \n",
              "                       [[ 4.9606e-02,  9.3363e-02, -3.0384e-02],\n",
              "                        [-2.9927e-02,  1.8231e-02,  1.6570e-03],\n",
              "                        [-8.5609e-02,  2.4859e-02,  1.3664e-02]],\n",
              "              \n",
              "                       [[-3.4812e-04, -3.2377e-02, -1.0777e-02],\n",
              "                        [ 8.7668e-02, -4.4678e-02,  5.5535e-02],\n",
              "                        [ 9.9413e-02,  8.2941e-03, -9.3410e-02]],\n",
              "              \n",
              "                       [[-3.6262e-02, -1.0006e-02,  1.9028e-02],\n",
              "                        [-7.5936e-02, -6.7097e-02,  2.7724e-02],\n",
              "                        [ 1.2503e-03,  7.3688e-02,  3.7396e-02]],\n",
              "              \n",
              "                       [[-2.4005e-02, -7.9342e-02,  5.1900e-02],\n",
              "                        [ 9.0647e-02, -3.2087e-02,  4.6329e-02],\n",
              "                        [ 2.9089e-02, -2.6794e-02, -5.1393e-02]],\n",
              "              \n",
              "                       [[ 9.8451e-02, -2.0353e-02,  1.0497e-01],\n",
              "                        [-2.9081e-02,  1.9702e-03,  7.8430e-02],\n",
              "                        [ 4.8721e-02,  3.4577e-02, -7.0351e-02]],\n",
              "              \n",
              "                       [[-3.9447e-02,  3.8359e-02, -7.7953e-02],\n",
              "                        [ 8.7228e-02,  9.4577e-02,  4.8749e-02],\n",
              "                        [-6.7252e-02,  9.6915e-02, -4.0803e-02]],\n",
              "              \n",
              "                       [[-6.7429e-02, -2.8537e-02, -7.2759e-02],\n",
              "                        [ 3.4755e-02,  9.2053e-02,  2.2274e-02],\n",
              "                        [-8.1187e-02, -4.3747e-02, -4.3780e-02]],\n",
              "              \n",
              "                       [[ 1.3319e-02, -7.2297e-02,  1.4376e-02],\n",
              "                        [ 8.6279e-02,  8.8658e-02, -1.6522e-02],\n",
              "                        [ 4.1113e-02, -7.2384e-02,  1.0410e-03]]],\n",
              "              \n",
              "              \n",
              "                      [[[-8.3452e-02, -8.3831e-02,  3.6172e-02],\n",
              "                        [-7.7647e-02,  1.0419e-01,  9.2749e-02],\n",
              "                        [ 3.9731e-03,  7.4081e-02, -6.4539e-02]],\n",
              "              \n",
              "                       [[-5.3148e-02, -5.3639e-02,  8.8804e-02],\n",
              "                        [-8.5319e-02, -7.1036e-03,  9.0217e-02],\n",
              "                        [ 7.7572e-02, -9.3823e-02, -8.7008e-03]],\n",
              "              \n",
              "                       [[-7.0648e-02, -1.0454e-01, -7.9281e-02],\n",
              "                        [ 5.1502e-02,  5.5683e-02,  9.3962e-03],\n",
              "                        [ 6.9944e-02,  1.4659e-02, -6.5922e-03]],\n",
              "              \n",
              "                       [[-2.9732e-02, -1.0265e-01,  4.8732e-02],\n",
              "                        [ 9.6521e-02,  6.8774e-02, -9.5591e-02],\n",
              "                        [ 4.7816e-03, -9.2764e-02, -6.2910e-02]],\n",
              "              \n",
              "                       [[ 1.0066e-01,  3.6819e-02,  7.2853e-02],\n",
              "                        [ 7.8073e-02,  1.6654e-02, -7.2920e-02],\n",
              "                        [-8.1131e-03,  2.4790e-04,  1.5108e-02]],\n",
              "              \n",
              "                       [[-5.4702e-03,  7.6091e-02, -6.0910e-02],\n",
              "                        [ 4.2873e-02, -4.9461e-03,  9.0235e-03],\n",
              "                        [ 9.4203e-02,  5.4570e-02,  1.0998e-02]],\n",
              "              \n",
              "                       [[-9.6014e-02, -2.1890e-02,  3.6040e-02],\n",
              "                        [ 1.6326e-02,  8.4917e-02,  5.0381e-02],\n",
              "                        [-3.7697e-02, -6.6707e-02, -1.1527e-02]],\n",
              "              \n",
              "                       [[-1.0284e-01, -5.1622e-02, -6.1686e-02],\n",
              "                        [ 9.7205e-02,  6.8006e-02,  9.1579e-02],\n",
              "                        [ 9.5853e-02, -3.1317e-02,  7.2725e-02]],\n",
              "              \n",
              "                       [[-9.7324e-02, -3.4239e-02,  5.0792e-02],\n",
              "                        [-8.0703e-02, -9.1242e-02, -2.0661e-02],\n",
              "                        [-1.5392e-02,  6.7720e-02, -7.6504e-02]],\n",
              "              \n",
              "                       [[ 5.9502e-02,  1.9937e-02, -2.1814e-02],\n",
              "                        [-7.6190e-02,  1.6789e-02,  2.4645e-02],\n",
              "                        [-9.6413e-02,  1.3874e-02,  9.7512e-03]]],\n",
              "              \n",
              "              \n",
              "                      [[[ 8.4031e-02,  2.0664e-02, -5.9160e-02],\n",
              "                        [ 8.5169e-03,  5.5725e-02,  2.1374e-03],\n",
              "                        [-5.7437e-02,  9.9039e-03, -4.4769e-03]],\n",
              "              \n",
              "                       [[ 5.9930e-02,  4.1428e-02, -5.5544e-02],\n",
              "                        [ 1.8884e-03,  8.7408e-02,  9.8887e-02],\n",
              "                        [-1.5908e-02, -1.0212e-02,  3.1192e-02]],\n",
              "              \n",
              "                       [[-1.6038e-02,  2.4390e-02,  9.5443e-02],\n",
              "                        [ 3.9320e-02,  6.9789e-02, -4.0207e-02],\n",
              "                        [ 1.2001e-03, -9.8361e-03,  7.6278e-02]],\n",
              "              \n",
              "                       [[-7.3245e-02, -7.2122e-02,  7.4500e-02],\n",
              "                        [ 4.3586e-02,  5.3909e-02,  1.0036e-01],\n",
              "                        [ 3.3371e-02, -1.0431e-01,  6.7217e-02]],\n",
              "              \n",
              "                       [[ 3.9181e-02,  6.6591e-02, -6.1870e-03],\n",
              "                        [ 5.0568e-02, -4.2096e-02,  1.0491e-01],\n",
              "                        [-4.5193e-02,  6.1386e-03, -4.7616e-02]],\n",
              "              \n",
              "                       [[-8.2135e-03, -3.8950e-03, -1.5676e-02],\n",
              "                        [ 2.7963e-02, -9.9939e-02, -9.7534e-02],\n",
              "                        [ 6.0731e-02, -8.3064e-02, -7.5139e-02]],\n",
              "              \n",
              "                       [[ 9.9498e-02, -5.5312e-02, -6.5842e-02],\n",
              "                        [ 6.1772e-02, -5.8378e-02, -8.8872e-02],\n",
              "                        [ 1.0419e-01,  4.4416e-02, -5.5845e-02]],\n",
              "              \n",
              "                       [[ 9.6520e-02,  9.0267e-02,  8.5806e-02],\n",
              "                        [-3.4142e-02,  6.4900e-02, -3.3931e-03],\n",
              "                        [-4.0298e-05, -4.1528e-02,  2.4313e-02]],\n",
              "              \n",
              "                       [[-3.5072e-02, -9.9572e-02,  9.9923e-02],\n",
              "                        [-4.0149e-02,  5.5274e-02, -7.1154e-02],\n",
              "                        [-4.7865e-02, -7.6399e-02,  2.0523e-02]],\n",
              "              \n",
              "                       [[ 4.6551e-02, -2.4410e-02,  8.2465e-02],\n",
              "                        [-7.3244e-02, -3.2327e-02,  4.3295e-02],\n",
              "                        [ 5.8349e-02,  9.0166e-02,  1.7498e-03]]],\n",
              "              \n",
              "              \n",
              "                      [[[-7.8490e-03, -6.3899e-02,  8.1775e-02],\n",
              "                        [ 7.8353e-02, -3.9776e-02, -5.1283e-02],\n",
              "                        [-1.0539e-01, -1.1084e-02, -3.7792e-03]],\n",
              "              \n",
              "                       [[-9.2897e-02,  1.0476e-01,  9.4378e-02],\n",
              "                        [-9.6665e-02,  8.5848e-02,  7.8957e-02],\n",
              "                        [-9.6726e-02,  3.1861e-02, -4.7343e-02]],\n",
              "              \n",
              "                       [[-6.4130e-03,  2.4940e-02,  7.0687e-02],\n",
              "                        [-3.4479e-02, -3.5978e-02,  2.0087e-02],\n",
              "                        [-6.6682e-02, -5.2912e-02, -1.0338e-01]],\n",
              "              \n",
              "                       [[-3.5940e-02, -1.6657e-02,  5.8412e-02],\n",
              "                        [ 1.0296e-01, -2.9372e-02,  2.5569e-02],\n",
              "                        [-9.3165e-02,  1.6860e-02, -3.2533e-02]],\n",
              "              \n",
              "                       [[-8.9216e-02,  1.0262e-01,  8.8274e-02],\n",
              "                        [ 1.3693e-03,  7.1322e-03, -8.4681e-02],\n",
              "                        [-8.8216e-02,  4.0014e-02, -2.7557e-02]],\n",
              "              \n",
              "                       [[-4.9493e-02, -1.0339e-01,  6.3991e-02],\n",
              "                        [ 9.7904e-02,  8.1183e-02,  6.2555e-03],\n",
              "                        [ 5.9489e-02,  3.7285e-02,  9.8859e-02]],\n",
              "              \n",
              "                       [[-6.7726e-02,  1.1541e-02,  7.3798e-02],\n",
              "                        [-1.0823e-03, -8.3302e-02,  8.0814e-03],\n",
              "                        [-2.6341e-02,  3.6673e-02, -9.4013e-02]],\n",
              "              \n",
              "                       [[-1.6932e-02,  6.9696e-02, -4.2764e-02],\n",
              "                        [-1.0437e-02,  7.0982e-02,  4.0553e-02],\n",
              "                        [-1.0090e-01,  4.3374e-02, -2.6647e-02]],\n",
              "              \n",
              "                       [[-1.5862e-03, -2.9653e-02,  1.0126e-02],\n",
              "                        [ 1.0071e-01,  4.6321e-03, -7.8544e-02],\n",
              "                        [ 1.2095e-02, -8.2092e-02,  2.4280e-02]],\n",
              "              \n",
              "                       [[ 8.1567e-02, -1.0434e-01, -6.3916e-02],\n",
              "                        [ 9.9527e-02, -4.5474e-02,  7.5257e-02],\n",
              "                        [ 2.5251e-02,  6.1911e-02, -8.4099e-02]]],\n",
              "              \n",
              "              \n",
              "                      [[[ 9.4977e-02,  8.5460e-02, -9.4673e-02],\n",
              "                        [ 7.0055e-02, -4.4393e-02,  4.7691e-02],\n",
              "                        [ 5.5279e-02,  4.4517e-03,  1.0183e-01]],\n",
              "              \n",
              "                       [[-1.9620e-02,  5.0005e-02,  1.2117e-02],\n",
              "                        [-2.0851e-03,  6.7809e-02, -8.5728e-02],\n",
              "                        [-8.6777e-02,  5.0468e-02,  7.4626e-02]],\n",
              "              \n",
              "                       [[-3.4533e-02,  6.8472e-02, -8.2427e-02],\n",
              "                        [ 5.3292e-02, -3.8817e-02, -8.7745e-02],\n",
              "                        [ 6.4133e-03, -2.0013e-02, -1.0115e-01]],\n",
              "              \n",
              "                       [[-9.0386e-05, -5.2913e-02,  9.4963e-03],\n",
              "                        [-1.0378e-02,  1.5779e-02, -2.1777e-02],\n",
              "                        [-7.1086e-02, -5.0488e-02,  1.2651e-02]],\n",
              "              \n",
              "                       [[ 4.2263e-02,  8.0049e-02,  9.2656e-02],\n",
              "                        [ 9.2303e-02, -6.8343e-02,  8.8636e-02],\n",
              "                        [ 8.6774e-02, -1.6602e-03,  9.5204e-02]],\n",
              "              \n",
              "                       [[-9.8695e-02,  4.9719e-02,  1.0250e-01],\n",
              "                        [-5.8494e-02, -2.6743e-02, -8.2602e-02],\n",
              "                        [ 5.6277e-02, -2.7811e-02,  7.9266e-02]],\n",
              "              \n",
              "                       [[-1.0251e-02,  7.6771e-02, -6.3449e-02],\n",
              "                        [ 9.1771e-02, -7.4646e-02, -9.9384e-03],\n",
              "                        [ 8.0945e-02,  8.3459e-02,  5.0535e-02]],\n",
              "              \n",
              "                       [[-4.6101e-02,  7.9047e-02, -4.8304e-02],\n",
              "                        [-9.4884e-02,  8.1218e-02,  8.0203e-02],\n",
              "                        [-4.8773e-02,  8.5563e-02,  4.5972e-02]],\n",
              "              \n",
              "                       [[ 1.0473e-01,  2.6345e-02,  8.5351e-03],\n",
              "                        [ 9.2150e-02, -2.6191e-02, -1.0353e-01],\n",
              "                        [ 3.9508e-02,  9.8826e-02, -8.0164e-02]],\n",
              "              \n",
              "                       [[ 7.6728e-02,  1.7464e-02, -4.0620e-02],\n",
              "                        [-5.9492e-02,  3.6825e-02, -8.7107e-02],\n",
              "                        [ 6.1797e-02, -9.7303e-02,  4.7526e-02]]],\n",
              "              \n",
              "              \n",
              "                      [[[ 9.4041e-02, -6.7018e-03,  5.5636e-02],\n",
              "                        [ 4.0449e-02, -1.2587e-02,  3.3958e-02],\n",
              "                        [-9.5881e-02, -2.3021e-02, -1.0355e-01]],\n",
              "              \n",
              "                       [[-6.1805e-02,  4.4044e-02, -8.5022e-02],\n",
              "                        [ 2.0038e-02, -4.8436e-02,  3.8927e-02],\n",
              "                        [-1.1314e-02, -3.6389e-02,  5.0963e-02]],\n",
              "              \n",
              "                       [[ 7.0474e-02, -7.6187e-02, -7.0875e-02],\n",
              "                        [ 8.3981e-02, -9.3754e-02, -6.6378e-02],\n",
              "                        [-4.7522e-02,  6.1971e-02, -8.9552e-02]],\n",
              "              \n",
              "                       [[-6.1831e-02, -1.3338e-02,  7.6852e-03],\n",
              "                        [-1.6900e-02, -3.9193e-03, -2.5859e-02],\n",
              "                        [-7.1741e-02, -9.2903e-02, -2.3588e-02]],\n",
              "              \n",
              "                       [[ 6.8074e-02, -1.0300e-02,  5.0253e-02],\n",
              "                        [ 1.6152e-02,  2.6132e-02,  8.6963e-02],\n",
              "                        [-1.4447e-02, -1.0515e-01,  6.7813e-03]],\n",
              "              \n",
              "                       [[ 8.9192e-03,  1.2367e-02,  9.5041e-02],\n",
              "                        [ 1.8188e-02,  2.6124e-02, -9.7356e-02],\n",
              "                        [ 6.9920e-02, -7.1008e-02,  1.2785e-02]],\n",
              "              \n",
              "                       [[ 3.8168e-02, -3.6678e-02, -4.6014e-02],\n",
              "                        [-1.7856e-02,  2.4426e-02, -9.7214e-02],\n",
              "                        [ 9.7289e-02, -1.6487e-03,  1.0339e-02]],\n",
              "              \n",
              "                       [[-7.2184e-02, -2.4049e-02, -7.4764e-02],\n",
              "                        [-8.5792e-02,  4.8113e-02,  1.2655e-02],\n",
              "                        [ 9.0558e-02, -9.8361e-02, -5.7992e-02]],\n",
              "              \n",
              "                       [[ 5.6654e-02, -5.8423e-02,  6.9053e-02],\n",
              "                        [-2.2458e-02,  4.8048e-02,  9.4665e-02],\n",
              "                        [-7.7571e-02, -6.9465e-02, -8.5592e-02]],\n",
              "              \n",
              "                       [[ 1.8430e-02,  9.0153e-02, -1.0051e-01],\n",
              "                        [ 2.3880e-02, -6.3294e-02, -1.5162e-02],\n",
              "                        [-3.8598e-02,  2.0410e-03, -8.7904e-02]]],\n",
              "              \n",
              "              \n",
              "                      [[[ 1.0100e-02,  1.3541e-02, -9.0705e-02],\n",
              "                        [ 1.9836e-02, -7.2510e-02, -7.1025e-02],\n",
              "                        [ 2.8693e-02,  6.2676e-02, -6.9987e-02]],\n",
              "              \n",
              "                       [[ 4.4360e-03, -3.7305e-03,  7.3493e-02],\n",
              "                        [ 2.9699e-02, -4.4926e-02, -1.7106e-02],\n",
              "                        [-1.9610e-02,  6.3274e-03, -2.2605e-02]],\n",
              "              \n",
              "                       [[ 3.6826e-02,  1.3221e-02,  3.1036e-02],\n",
              "                        [ 9.8351e-04,  6.9267e-02, -1.3185e-02],\n",
              "                        [ 1.0249e-02,  2.0835e-02,  3.6351e-02]],\n",
              "              \n",
              "                       [[ 7.6707e-02,  4.9295e-02,  2.8423e-02],\n",
              "                        [-1.0095e-02,  9.6150e-02, -6.1818e-03],\n",
              "                        [-4.2652e-02,  3.5318e-02,  4.0158e-02]],\n",
              "              \n",
              "                       [[ 1.9378e-03,  6.4499e-02, -1.2654e-02],\n",
              "                        [ 6.2201e-02,  2.6730e-02, -6.2648e-02],\n",
              "                        [ 8.4762e-02, -4.6135e-02, -5.7787e-02]],\n",
              "              \n",
              "                       [[ 3.4535e-02, -2.6276e-02,  2.4529e-02],\n",
              "                        [ 5.0208e-02,  9.9634e-02,  2.4804e-02],\n",
              "                        [ 6.8863e-03,  5.6671e-02, -2.2705e-02]],\n",
              "              \n",
              "                       [[-2.4764e-02, -5.0260e-02,  3.2310e-02],\n",
              "                        [-4.8518e-03,  4.7320e-02,  6.8893e-02],\n",
              "                        [-4.5853e-02, -9.9176e-02,  4.5650e-02]],\n",
              "              \n",
              "                       [[ 6.9618e-02, -7.8038e-02, -5.3087e-03],\n",
              "                        [ 8.0349e-02,  4.6191e-02,  4.0159e-02],\n",
              "                        [ 4.4298e-02,  7.6971e-02, -4.9266e-02]],\n",
              "              \n",
              "                       [[-6.3664e-02, -1.6116e-02,  4.8173e-02],\n",
              "                        [ 3.2718e-02, -9.2953e-02,  6.7233e-02],\n",
              "                        [ 3.6645e-02,  3.6404e-02,  5.7541e-02]],\n",
              "              \n",
              "                       [[ 4.9136e-02, -2.6064e-02, -2.4559e-02],\n",
              "                        [ 9.8746e-02, -6.9863e-02, -3.9517e-02],\n",
              "                        [-3.2841e-02,  3.1315e-02, -3.0536e-02]]]])),\n",
              "             ('conv_block_2.2.bias',\n",
              "              tensor([ 0.1032,  0.0283,  0.0569,  0.0466, -0.0389,  0.0826,  0.0583,  0.0164,\n",
              "                      -0.0615, -0.0825])),\n",
              "             ('classifier.1.weight',\n",
              "              tensor([[-0.0327, -0.0027,  0.0312,  ...,  0.0355, -0.0083,  0.0127],\n",
              "                      [-0.0013,  0.0308,  0.0182,  ..., -0.0132,  0.0296,  0.0177],\n",
              "                      [ 0.0126,  0.0086, -0.0020,  ..., -0.0145,  0.0135,  0.0067],\n",
              "                      ...,\n",
              "                      [-0.0002,  0.0438, -0.0393,  ...,  0.0322, -0.0186, -0.0104],\n",
              "                      [-0.0427, -0.0027, -0.0185,  ...,  0.0025,  0.0446, -0.0018],\n",
              "                      [ 0.0285,  0.0001, -0.0307,  ..., -0.0011,  0.0030, -0.0264]])),\n",
              "             ('classifier.1.bias',\n",
              "              tensor([-0.0152,  0.0313,  0.0205,  0.0271, -0.0050, -0.0202,  0.0192,  0.0426,\n",
              "                       0.0187, -0.0403]))])"
            ]
          },
          "metadata": {},
          "execution_count": 28
        }
      ]
    },
    {
      "cell_type": "markdown",
      "source": [
        "## 9. Train the model you built in exercise 8. for 5 epochs on CPU and GPU and see how long it takes on each."
      ],
      "metadata": {
        "id": "sf_3zUr7xlhy"
      }
    },
    {
      "cell_type": "code",
      "source": [],
      "metadata": {
        "id": "jSo6vVWFbNLD"
      },
      "execution_count": null,
      "outputs": []
    },
    {
      "cell_type": "markdown",
      "source": [
        "## 10. Make predictions using your trained model and visualize at least 5 of them comparing the prediciton to the target label."
      ],
      "metadata": {
        "id": "w1CsHhPpxp1w"
      }
    },
    {
      "cell_type": "code",
      "source": [],
      "metadata": {
        "id": "_YGgZvSobNxu"
      },
      "execution_count": null,
      "outputs": []
    },
    {
      "cell_type": "markdown",
      "source": [
        "## 11. Plot a confusion matrix comparing your model's predictions to the truth labels."
      ],
      "metadata": {
        "id": "qQwzqlBWxrpG"
      }
    },
    {
      "cell_type": "code",
      "source": [],
      "metadata": {
        "id": "vSrXiT_AbQ6e"
      },
      "execution_count": null,
      "outputs": []
    },
    {
      "cell_type": "markdown",
      "source": [
        "## 12. Create a random tensor of shape `[1, 3, 64, 64]` and pass it through a `nn.Conv2d()` layer with various hyperparameter settings (these can be any settings you choose), what do you notice if the `kernel_size` parameter goes up and down?"
      ],
      "metadata": {
        "id": "lj6bDhoWxt2y"
      }
    },
    {
      "cell_type": "code",
      "source": [],
      "metadata": {
        "id": "leCTsqtSbR5P"
      },
      "execution_count": null,
      "outputs": []
    },
    {
      "cell_type": "markdown",
      "source": [
        "## 13. Use a model similar to the trained `model_2` from notebook 03 to make predictions on the test [`torchvision.datasets.FashionMNIST`](https://pytorch.org/vision/main/generated/torchvision.datasets.FashionMNIST.html) dataset.\n",
        "* Then plot some predictions where the model was wrong alongside what the label of the image should've been.\n",
        "* After visualing these predictions do you think it's more of a modelling error or a data error?\n",
        "* As in, could the model do better or are the labels of the data too close to each other (e.g. a \"Shirt\" label is too close to \"T-shirt/top\")?"
      ],
      "metadata": {
        "id": "VHS20cNTxwSi"
      }
    },
    {
      "cell_type": "code",
      "source": [],
      "metadata": {
        "id": "78a8LjtdbSZj"
      },
      "execution_count": null,
      "outputs": []
    }
  ]
}